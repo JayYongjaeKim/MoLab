{
  "cells": [
    {
      "cell_type": "markdown",
      "metadata": {
        "id": "view-in-github",
        "colab_type": "text"
      },
      "source": [
        "<a href=\"https://colab.research.google.com/github/JayYongjaeKim/MoLab/blob/main/Movielens.ipynb\" target=\"_parent\"><img src=\"https://colab.research.google.com/assets/colab-badge.svg\" alt=\"Open In Colab\"/></a>"
      ]
    },
    {
      "cell_type": "code",
      "execution_count": null,
      "id": "8d083ed2",
      "metadata": {
        "id": "8d083ed2"
      },
      "outputs": [],
      "source": [
        "import datetime as dt\n",
        "from pathlib import Path\n",
        "import os\n",
        "import time\n",
        "from datetime import datetime\n",
        "from IPython.display import display\n",
        "\n",
        "import numpy as np\n",
        "import pandas as pd\n",
        "import matplotlib.pyplot as plt\n",
        "import warnings\n",
        "warnings.filterwarnings('ignore')"
      ]
    },
    {
      "cell_type": "code",
      "execution_count": null,
      "id": "773bec67",
      "metadata": {
        "id": "773bec67",
        "outputId": "1e7f30b2-c581-4fee-94e1-72ace141887e"
      },
      "outputs": [
        {
          "data": {
            "text/html": [
              "<div>\n",
              "<style scoped>\n",
              "    .dataframe tbody tr th:only-of-type {\n",
              "        vertical-align: middle;\n",
              "    }\n",
              "\n",
              "    .dataframe tbody tr th {\n",
              "        vertical-align: top;\n",
              "    }\n",
              "\n",
              "    .dataframe thead th {\n",
              "        text-align: right;\n",
              "    }\n",
              "</style>\n",
              "<table border=\"1\" class=\"dataframe\">\n",
              "  <thead>\n",
              "    <tr style=\"text-align: right;\">\n",
              "      <th></th>\n",
              "      <th>UserId</th>\n",
              "      <th>ItemId</th>\n",
              "      <th>Rating</th>\n",
              "      <th>Time</th>\n",
              "    </tr>\n",
              "  </thead>\n",
              "  <tbody>\n",
              "    <tr>\n",
              "      <th>31</th>\n",
              "      <td>1</td>\n",
              "      <td>3186</td>\n",
              "      <td>4</td>\n",
              "      <td>978300019</td>\n",
              "    </tr>\n",
              "    <tr>\n",
              "      <th>22</th>\n",
              "      <td>1</td>\n",
              "      <td>1270</td>\n",
              "      <td>5</td>\n",
              "      <td>978300055</td>\n",
              "    </tr>\n",
              "    <tr>\n",
              "      <th>27</th>\n",
              "      <td>1</td>\n",
              "      <td>1721</td>\n",
              "      <td>4</td>\n",
              "      <td>978300055</td>\n",
              "    </tr>\n",
              "    <tr>\n",
              "      <th>37</th>\n",
              "      <td>1</td>\n",
              "      <td>1022</td>\n",
              "      <td>5</td>\n",
              "      <td>978300055</td>\n",
              "    </tr>\n",
              "    <tr>\n",
              "      <th>24</th>\n",
              "      <td>1</td>\n",
              "      <td>2340</td>\n",
              "      <td>3</td>\n",
              "      <td>978300103</td>\n",
              "    </tr>\n",
              "    <tr>\n",
              "      <th>...</th>\n",
              "      <td>...</td>\n",
              "      <td>...</td>\n",
              "      <td>...</td>\n",
              "      <td>...</td>\n",
              "    </tr>\n",
              "    <tr>\n",
              "      <th>1000019</th>\n",
              "      <td>6040</td>\n",
              "      <td>2917</td>\n",
              "      <td>4</td>\n",
              "      <td>997454429</td>\n",
              "    </tr>\n",
              "    <tr>\n",
              "      <th>999988</th>\n",
              "      <td>6040</td>\n",
              "      <td>1921</td>\n",
              "      <td>4</td>\n",
              "      <td>997454464</td>\n",
              "    </tr>\n",
              "    <tr>\n",
              "      <th>1000172</th>\n",
              "      <td>6040</td>\n",
              "      <td>1784</td>\n",
              "      <td>3</td>\n",
              "      <td>997454464</td>\n",
              "    </tr>\n",
              "    <tr>\n",
              "      <th>1000167</th>\n",
              "      <td>6040</td>\n",
              "      <td>161</td>\n",
              "      <td>3</td>\n",
              "      <td>997454486</td>\n",
              "    </tr>\n",
              "    <tr>\n",
              "      <th>1000042</th>\n",
              "      <td>6040</td>\n",
              "      <td>1221</td>\n",
              "      <td>4</td>\n",
              "      <td>998315055</td>\n",
              "    </tr>\n",
              "  </tbody>\n",
              "</table>\n",
              "<p>1000209 rows × 4 columns</p>\n",
              "</div>"
            ],
            "text/plain": [
              "         UserId  ItemId  Rating       Time\n",
              "31            1    3186       4  978300019\n",
              "22            1    1270       5  978300055\n",
              "27            1    1721       4  978300055\n",
              "37            1    1022       5  978300055\n",
              "24            1    2340       3  978300103\n",
              "...         ...     ...     ...        ...\n",
              "1000019    6040    2917       4  997454429\n",
              "999988     6040    1921       4  997454464\n",
              "1000172    6040    1784       3  997454464\n",
              "1000167    6040     161       3  997454486\n",
              "1000042    6040    1221       4  998315055\n",
              "\n",
              "[1000209 rows x 4 columns]"
            ]
          },
          "execution_count": 2,
          "metadata": {},
          "output_type": "execute_result"
        }
      ],
      "source": [
        "data_path = Path(os.getenv('HOME')+'/aiffel/yoochoose/data/')\n",
        "train_path = data_path / 'ratings.dat'\n",
        "\n",
        "def load_data(data_path: Path, nrows=None):\n",
        "    data = pd.read_csv(data_path, sep='::', header=None, usecols=[0, 1, 2, 3], dtype={0: np.int32, 1: np.int32, 2: np.int32}, nrows=nrows)\n",
        "    data.columns = ['UserId', 'ItemId', 'Rating', 'Time']\n",
        "    return data\n",
        "\n",
        "data = load_data(train_path, None)\n",
        "data.sort_values(['UserId', 'Time'], inplace=True)\n",
        "data"
      ]
    },
    {
      "cell_type": "code",
      "execution_count": null,
      "id": "e4d77c91",
      "metadata": {
        "id": "e4d77c91"
      },
      "outputs": [],
      "source": [
        "# 세션정의  *UA 기준으로 설정(30분)*\n",
        "\n",
        "session_time_gap = 30 * 60 #초변환입니다.\n",
        "data['Time'] = pd.to_datetime(data['Time'], unit='s')\n",
        "\n",
        "data['Time_diff'] = data.groupby('UserId')['Time'].diff().dt.total_seconds()\n",
        "\n",
        "data['SessionId'] = (data['Time_diff'] > session_time_gap).cumsum() #30분 기준으로 넘어가면 새로운sid 생성하는 GA기준입니다"
      ]
    },
    {
      "cell_type": "code",
      "execution_count": null,
      "id": "ea226a5d",
      "metadata": {
        "id": "ea226a5d"
      },
      "outputs": [],
      "source": [
        "session_length = data.groupby('SessionId').size()"
      ]
    },
    {
      "cell_type": "code",
      "execution_count": null,
      "id": "e27126ed",
      "metadata": {
        "id": "e27126ed",
        "outputId": "3647025e-1d7d-45a4-cee9-fff93f55ce62"
      },
      "outputs": [
        {
          "name": "stdout",
          "output_type": "stream",
          "text": [
            "count    19124.000000\n",
            "mean        52.301245\n",
            "std        135.558375\n",
            "min          1.000000\n",
            "25%          1.000000\n",
            "50%          3.000000\n",
            "75%         32.000000\n",
            "max       2411.000000\n",
            "dtype: float64\n",
            "3.0 52.301244509516835\n"
          ]
        }
      ],
      "source": [
        "print(session_length.describe())\n",
        "print(session_length.median(), session_length.mean())"
      ]
    },
    {
      "cell_type": "code",
      "execution_count": null,
      "id": "2c0f01bf",
      "metadata": {
        "id": "2c0f01bf"
      },
      "outputs": [],
      "source": [
        "length_count = session_length.groupby(session_length).size()\n",
        "length_percent_cumsum = length_count.cumsum() / length_count.sum()\n",
        "length_percent_cumsum_999 = length_percent_cumsum[length_percent_cumsum < 0.999]"
      ]
    },
    {
      "cell_type": "code",
      "execution_count": null,
      "id": "d05d8a8b",
      "metadata": {
        "id": "d05d8a8b",
        "outputId": "f364f1b1-cb29-4c15-e207-3e086998b2fe"
      },
      "outputs": [
        {
          "data": {
            "image/png": "[encoded data removed]",
            "text/plain": [
              "<Figure size 864x720 with 1 Axes>"
            ]
          },
          "metadata": {
            "needs_background": "light"
          },
          "output_type": "display_data"
        }
      ],
      "source": [
        "import matplotlib.pyplot as plt\n",
        "\n",
        "plt.figure(figsize=(12,10))\n",
        "plt.bar(x=length_percent_cumsum_999.index,\n",
        "        height=length_percent_cumsum_999, color='red')\n",
        "plt.xticks(length_percent_cumsum_999.index)\n",
        "plt.yticks(np.arange(0, 1.01, 0.05))\n",
        "plt.title('Cumsum Percentage Until 0.999', size=20)\n",
        "plt.show()"
      ]
    },
    {
      "cell_type": "code",
      "execution_count": null,
      "id": "185200d6",
      "metadata": {
        "id": "185200d6"
      },
      "outputs": [],
      "source": [
        "latest = data['Time'].max()\n",
        "latest = pd.to_datetime(latest, unit='s')\n",
        "\n",
        "six_months_ago = latest - pd.Timedelta(days=6*30)\n",
        "\n",
        "data_recent = data[data['Time'] > six_months_ago]\n",
        "\n",
        "data2 = data_recent #원본 data는 살릴것 *6개월치"
      ]
    },
    {
      "cell_type": "code",
      "execution_count": null,
      "id": "b556321b",
      "metadata": {
        "id": "b556321b",
        "outputId": "b38d6a71-e277-45c5-ff66-cd6ebf3e0914"
      },
      "outputs": [
        {
          "data": {
            "text/html": [
              "<div>\n",
              "<style scoped>\n",
              "    .dataframe tbody tr th:only-of-type {\n",
              "        vertical-align: middle;\n",
              "    }\n",
              "\n",
              "    .dataframe tbody tr th {\n",
              "        vertical-align: top;\n",
              "    }\n",
              "\n",
              "    .dataframe thead th {\n",
              "        text-align: right;\n",
              "    }\n",
              "</style>\n",
              "<table border=\"1\" class=\"dataframe\">\n",
              "  <thead>\n",
              "    <tr style=\"text-align: right;\">\n",
              "      <th></th>\n",
              "      <th>UserId</th>\n",
              "      <th>ItemId</th>\n",
              "      <th>Rating</th>\n",
              "      <th>Time</th>\n",
              "      <th>Time_diff</th>\n",
              "      <th>SessionId</th>\n",
              "    </tr>\n",
              "  </thead>\n",
              "  <tbody>\n",
              "    <tr>\n",
              "      <th>5200</th>\n",
              "      <td>36</td>\n",
              "      <td>2269</td>\n",
              "      <td>5</td>\n",
              "      <td>2002-12-22 08:05:50</td>\n",
              "      <td>24319448.0</td>\n",
              "      <td>53</td>\n",
              "    </tr>\n",
              "    <tr>\n",
              "      <th>5256</th>\n",
              "      <td>36</td>\n",
              "      <td>1701</td>\n",
              "      <td>4</td>\n",
              "      <td>2002-12-22 08:05:50</td>\n",
              "      <td>0.0</td>\n",
              "      <td>53</td>\n",
              "    </tr>\n",
              "    <tr>\n",
              "      <th>5184</th>\n",
              "      <td>36</td>\n",
              "      <td>2694</td>\n",
              "      <td>3</td>\n",
              "      <td>2002-12-22 08:08:14</td>\n",
              "      <td>144.0</td>\n",
              "      <td>53</td>\n",
              "    </tr>\n",
              "    <tr>\n",
              "      <th>5364</th>\n",
              "      <td>36</td>\n",
              "      <td>3786</td>\n",
              "      <td>4</td>\n",
              "      <td>2002-12-22 08:08:41</td>\n",
              "      <td>27.0</td>\n",
              "      <td>53</td>\n",
              "    </tr>\n",
              "    <tr>\n",
              "      <th>5262</th>\n",
              "      <td>36</td>\n",
              "      <td>2369</td>\n",
              "      <td>4</td>\n",
              "      <td>2002-12-22 08:09:24</td>\n",
              "      <td>43.0</td>\n",
              "      <td>53</td>\n",
              "    </tr>\n",
              "    <tr>\n",
              "      <th>...</th>\n",
              "      <td>...</td>\n",
              "      <td>...</td>\n",
              "      <td>...</td>\n",
              "      <td>...</td>\n",
              "      <td>...</td>\n",
              "      <td>...</td>\n",
              "    </tr>\n",
              "    <tr>\n",
              "      <th>984733</th>\n",
              "      <td>5950</td>\n",
              "      <td>1262</td>\n",
              "      <td>4</td>\n",
              "      <td>2003-02-27 18:17:38</td>\n",
              "      <td>121.0</td>\n",
              "      <td>18918</td>\n",
              "    </tr>\n",
              "    <tr>\n",
              "      <th>986778</th>\n",
              "      <td>5956</td>\n",
              "      <td>469</td>\n",
              "      <td>3</td>\n",
              "      <td>2002-09-30 03:54:57</td>\n",
              "      <td>7108568.0</td>\n",
              "      <td>18963</td>\n",
              "    </tr>\n",
              "    <tr>\n",
              "      <th>992702</th>\n",
              "      <td>5996</td>\n",
              "      <td>168</td>\n",
              "      <td>3</td>\n",
              "      <td>2002-09-03 13:12:26</td>\n",
              "      <td>10945521.0</td>\n",
              "      <td>19056</td>\n",
              "    </tr>\n",
              "    <tr>\n",
              "      <th>992459</th>\n",
              "      <td>5996</td>\n",
              "      <td>339</td>\n",
              "      <td>4</td>\n",
              "      <td>2002-10-07 13:24:39</td>\n",
              "      <td>2938333.0</td>\n",
              "      <td>19057</td>\n",
              "    </tr>\n",
              "    <tr>\n",
              "      <th>992387</th>\n",
              "      <td>5996</td>\n",
              "      <td>3882</td>\n",
              "      <td>3</td>\n",
              "      <td>2002-11-04 16:55:55</td>\n",
              "      <td>2431876.0</td>\n",
              "      <td>19058</td>\n",
              "    </tr>\n",
              "  </tbody>\n",
              "</table>\n",
              "<p>8823 rows × 6 columns</p>\n",
              "</div>"
            ],
            "text/plain": [
              "        UserId  ItemId  Rating                Time   Time_diff  SessionId\n",
              "5200        36    2269       5 2002-12-22 08:05:50  24319448.0         53\n",
              "5256        36    1701       4 2002-12-22 08:05:50         0.0         53\n",
              "5184        36    2694       3 2002-12-22 08:08:14       144.0         53\n",
              "5364        36    3786       4 2002-12-22 08:08:41        27.0         53\n",
              "5262        36    2369       4 2002-12-22 08:09:24        43.0         53\n",
              "...        ...     ...     ...                 ...         ...        ...\n",
              "984733    5950    1262       4 2003-02-27 18:17:38       121.0      18918\n",
              "986778    5956     469       3 2002-09-30 03:54:57   7108568.0      18963\n",
              "992702    5996     168       3 2002-09-03 13:12:26  10945521.0      19056\n",
              "992459    5996     339       4 2002-10-07 13:24:39   2938333.0      19057\n",
              "992387    5996    3882       3 2002-11-04 16:55:55   2431876.0      19058\n",
              "\n",
              "[8823 rows x 6 columns]"
            ]
          },
          "execution_count": 11,
          "metadata": {},
          "output_type": "execute_result"
        }
      ],
      "source": [
        "data2"
      ]
    },
    {
      "cell_type": "code",
      "execution_count": null,
      "id": "d7dd3639",
      "metadata": {
        "id": "d7dd3639"
      },
      "outputs": [],
      "source": [
        "def cleanse_short_session(data2, min_length=2):\n",
        "    session_len = data2.groupby('SessionId').size()\n",
        "    valid_sessions = session_len[session_len >= min_length].index\n",
        "    return data2[data2['SessionId'].isin(valid_sessions)]\n",
        "\n",
        "def cleanse_unpopular_item(data2, min_clicks=5):\n",
        "    item_clicks = data2.groupby('ItemId').size()\n",
        "    popular_items = item_clicks[item_clicks >= min_clicks].index\n",
        "    return data2[data2['ItemId'].isin(popular_items)]\n",
        "\n",
        "def cleanse_recursive(data2, min_length=2, min_clicks=5):\n",
        "    while True:\n",
        "        before = len(data2)\n",
        "        data2 = cleanse_short_session(data2, min_length)\n",
        "        data2 = cleanse_unpopular_item(data2, min_clicks)\n",
        "        after = len(data2)\n",
        "        if before == after:\n",
        "            break\n",
        "    return data2\n",
        "\n",
        "data2 = cleanse_recursive(data2)\n",
        "\n",
        "# 클릭횟수가 5미만인것 제외(인기 없음), 길이가 1인 세션 제거"
      ]
    },
    {
      "cell_type": "code",
      "execution_count": null,
      "id": "a78e2faf",
      "metadata": {
        "id": "a78e2faf",
        "outputId": "50c94d22-f569-40af-b103-f44cf4bf9dc6"
      },
      "outputs": [
        {
          "data": {
            "text/html": [
              "<div>\n",
              "<style scoped>\n",
              "    .dataframe tbody tr th:only-of-type {\n",
              "        vertical-align: middle;\n",
              "    }\n",
              "\n",
              "    .dataframe tbody tr th {\n",
              "        vertical-align: top;\n",
              "    }\n",
              "\n",
              "    .dataframe thead th {\n",
              "        text-align: right;\n",
              "    }\n",
              "</style>\n",
              "<table border=\"1\" class=\"dataframe\">\n",
              "  <thead>\n",
              "    <tr style=\"text-align: right;\">\n",
              "      <th></th>\n",
              "      <th>UserId</th>\n",
              "      <th>ItemId</th>\n",
              "      <th>Rating</th>\n",
              "      <th>Time</th>\n",
              "      <th>Time_diff</th>\n",
              "      <th>SessionId</th>\n",
              "    </tr>\n",
              "  </thead>\n",
              "  <tbody>\n",
              "    <tr>\n",
              "      <th>5364</th>\n",
              "      <td>36</td>\n",
              "      <td>3786</td>\n",
              "      <td>4</td>\n",
              "      <td>2002-12-22 08:08:41</td>\n",
              "      <td>27.0</td>\n",
              "      <td>53</td>\n",
              "    </tr>\n",
              "    <tr>\n",
              "      <th>5262</th>\n",
              "      <td>36</td>\n",
              "      <td>2369</td>\n",
              "      <td>4</td>\n",
              "      <td>2002-12-22 08:09:24</td>\n",
              "      <td>43.0</td>\n",
              "      <td>53</td>\n",
              "    </tr>\n",
              "    <tr>\n",
              "      <th>5280</th>\n",
              "      <td>36</td>\n",
              "      <td>3174</td>\n",
              "      <td>4</td>\n",
              "      <td>2002-12-22 08:11:25</td>\n",
              "      <td>23.0</td>\n",
              "      <td>53</td>\n",
              "    </tr>\n",
              "    <tr>\n",
              "      <th>5222</th>\n",
              "      <td>36</td>\n",
              "      <td>296</td>\n",
              "      <td>5</td>\n",
              "      <td>2002-12-22 08:16:59</td>\n",
              "      <td>334.0</td>\n",
              "      <td>53</td>\n",
              "    </tr>\n",
              "    <tr>\n",
              "      <th>5104</th>\n",
              "      <td>36</td>\n",
              "      <td>247</td>\n",
              "      <td>4</td>\n",
              "      <td>2002-12-22 08:17:48</td>\n",
              "      <td>49.0</td>\n",
              "      <td>53</td>\n",
              "    </tr>\n",
              "    <tr>\n",
              "      <th>...</th>\n",
              "      <td>...</td>\n",
              "      <td>...</td>\n",
              "      <td>...</td>\n",
              "      <td>...</td>\n",
              "      <td>...</td>\n",
              "      <td>...</td>\n",
              "    </tr>\n",
              "    <tr>\n",
              "      <th>984731</th>\n",
              "      <td>5950</td>\n",
              "      <td>3948</td>\n",
              "      <td>4</td>\n",
              "      <td>2003-02-27 18:13:57</td>\n",
              "      <td>68.0</td>\n",
              "      <td>18918</td>\n",
              "    </tr>\n",
              "    <tr>\n",
              "      <th>984682</th>\n",
              "      <td>5950</td>\n",
              "      <td>3578</td>\n",
              "      <td>4</td>\n",
              "      <td>2003-02-27 18:14:30</td>\n",
              "      <td>33.0</td>\n",
              "      <td>18918</td>\n",
              "    </tr>\n",
              "    <tr>\n",
              "      <th>984475</th>\n",
              "      <td>5950</td>\n",
              "      <td>3793</td>\n",
              "      <td>3</td>\n",
              "      <td>2003-02-27 18:15:10</td>\n",
              "      <td>40.0</td>\n",
              "      <td>18918</td>\n",
              "    </tr>\n",
              "    <tr>\n",
              "      <th>984660</th>\n",
              "      <td>5950</td>\n",
              "      <td>3555</td>\n",
              "      <td>2</td>\n",
              "      <td>2003-02-27 18:15:37</td>\n",
              "      <td>27.0</td>\n",
              "      <td>18918</td>\n",
              "    </tr>\n",
              "    <tr>\n",
              "      <th>984733</th>\n",
              "      <td>5950</td>\n",
              "      <td>1262</td>\n",
              "      <td>4</td>\n",
              "      <td>2003-02-27 18:17:38</td>\n",
              "      <td>121.0</td>\n",
              "      <td>18918</td>\n",
              "    </tr>\n",
              "  </tbody>\n",
              "</table>\n",
              "<p>4685 rows × 6 columns</p>\n",
              "</div>"
            ],
            "text/plain": [
              "        UserId  ItemId  Rating                Time  Time_diff  SessionId\n",
              "5364        36    3786       4 2002-12-22 08:08:41       27.0         53\n",
              "5262        36    2369       4 2002-12-22 08:09:24       43.0         53\n",
              "5280        36    3174       4 2002-12-22 08:11:25       23.0         53\n",
              "5222        36     296       5 2002-12-22 08:16:59      334.0         53\n",
              "5104        36     247       4 2002-12-22 08:17:48       49.0         53\n",
              "...        ...     ...     ...                 ...        ...        ...\n",
              "984731    5950    3948       4 2003-02-27 18:13:57       68.0      18918\n",
              "984682    5950    3578       4 2003-02-27 18:14:30       33.0      18918\n",
              "984475    5950    3793       3 2003-02-27 18:15:10       40.0      18918\n",
              "984660    5950    3555       2 2003-02-27 18:15:37       27.0      18918\n",
              "984733    5950    1262       4 2003-02-27 18:17:38      121.0      18918\n",
              "\n",
              "[4685 rows x 6 columns]"
            ]
          },
          "execution_count": 13,
          "metadata": {},
          "output_type": "execute_result"
        }
      ],
      "source": [
        "data2 #8823 > 4685"
      ]
    },
    {
      "cell_type": "code",
      "execution_count": null,
      "id": "09808370",
      "metadata": {
        "id": "09808370"
      },
      "outputs": [],
      "source": [
        "def split_by_date(data2, days=7):\n",
        "    latest = data2['Time'].max()\n",
        "    session_last_time = data2.groupby('SessionId')['Time'].max()\n",
        "\n",
        "    # 분할 조건\n",
        "    train_sessions = session_last_time[session_last_time < latest - pd.Timedelta(days=days)].index\n",
        "    test_sessions = session_last_time[session_last_time >= latest - pd.Timedelta(days=days)].index\n",
        "\n",
        "    # 데이터 분할\n",
        "    train_data = data2[data2['SessionId'].isin(train_sessions)]\n",
        "    test_data = data2[data2['SessionId'].isin(test_sessions)]\n",
        "    test_data = test_data[test_data['ItemId'].isin(train_data['ItemId'])]\n",
        "\n",
        "    # 분할 결과 확인\n",
        "    print(f\"Split by Date Debug - Days: {days}\")\n",
        "    print(f\"Train Sessions: {len(train_sessions)}, Test Sessions: {len(test_sessions)}\")\n",
        "    print(f\"Train Data: {len(train_data)}, Test Data: {len(test_data)}\\n\")\n",
        "\n",
        "    return train_data, test_data\n",
        "\n",
        "def stats_info(data: pd.DataFrame, status: str):\n",
        "    print(f'* {status} Set Stats Info\\n'\n",
        "          f'\\t Events: {len(data)}\\n'  # data2 → data\n",
        "          f'\\t Sessions: {data[\"SessionId\"].nunique()}\\n'\n",
        "          f'\\t Items: {data[\"ItemId\"].nunique()}\\n'\n",
        "          f'\\t First Time : {data[\"Time\"].min()}\\n'\n",
        "          f'\\t Last Time : {data[\"Time\"].max()}\\n')\n"
      ]
    },
    {
      "cell_type": "code",
      "execution_count": null,
      "id": "ce68d937",
      "metadata": {
        "id": "ce68d937",
        "outputId": "d5eaabdc-fc10-4175-9aad-1105d4eca9ee"
      },
      "outputs": [
        {
          "name": "stdout",
          "output_type": "stream",
          "text": [
            "Split by Date Debug - Days: 1\n",
            "Train Sessions: 440, Test Sessions: 3\n",
            "Train Data: 4654, Test Data: 31\n",
            "\n",
            "Split by Date Debug - Days: 1\n",
            "Train Sessions: 437, Test Sessions: 3\n",
            "Train Data: 4587, Test Data: 67\n",
            "\n",
            "* Train Set Stats Info\n",
            "\t Events: 4587\n",
            "\t Sessions: 437\n",
            "\t Items: 587\n",
            "\t First Time : 2002-09-01 19:44:55\n",
            "\t Last Time : 2003-02-24 20:56:02\n",
            "\n",
            "* Valid Set Stats Info\n",
            "\t Events: 67\n",
            "\t Sessions: 3\n",
            "\t Items: 67\n",
            "\t First Time : 2003-02-25 15:25:16\n",
            "\t Last Time : 2003-02-26 16:18:03\n",
            "\n",
            "* Test Set Stats Info\n",
            "\t Events: 31\n",
            "\t Sessions: 3\n",
            "\t Items: 30\n",
            "\t First Time : 2003-02-27 13:14:14\n",
            "\t Last Time : 2003-02-27 18:17:38\n",
            "\n"
          ]
        }
      ],
      "source": [
        "train_data, test_data = split_by_date(data2, days=1)\n",
        "train_data, valid_data = split_by_date(train_data, days=1)\n",
        "\n",
        "stats_info(train_data, 'Train')\n",
        "stats_info(valid_data, 'Valid')\n",
        "stats_info(test_data, 'Test')\n"
      ]
    },
    {
      "cell_type": "code",
      "execution_count": null,
      "id": "e5e8cbdf",
      "metadata": {
        "id": "e5e8cbdf"
      },
      "outputs": [],
      "source": [
        "id2idx = {item_id: index for index, item_id in enumerate(train_data['ItemId'].unique())}\n",
        "\n",
        "def indexing(df, id2idx):\n",
        "    df['item_idx'] = df['ItemId'].map(lambda x: id2idx.get(x, -1))\n",
        "    return df\n",
        "\n",
        "train_data = indexing(train_data, id2idx)\n",
        "valid_data = indexing(valid_data, id2idx)\n",
        "test_data = indexing(test_data, id2idx)"
      ]
    },
    {
      "cell_type": "code",
      "execution_count": null,
      "id": "0234df27",
      "metadata": {
        "id": "0234df27",
        "outputId": "f6a6acef-6a05-491a-988b-088034294721"
      },
      "outputs": [
        {
          "name": "stdout",
          "output_type": "stream",
          "text": [
            "      UserId  ItemId  Rating                Time   Time_diff  SessionId  \\\n",
            "5364      36    3786       4 2002-12-22 08:08:41        27.0         53   \n",
            "5262      36    2369       4 2002-12-22 08:09:24        43.0         53   \n",
            "5280      36    3174       4 2002-12-22 08:11:25        23.0         53   \n",
            "5222      36     296       5 2002-12-22 08:16:59       334.0         53   \n",
            "5104      36     247       4 2002-12-22 08:17:48        49.0         53   \n",
            "5062      36    1266       5 2002-12-22 08:18:29        41.0         53   \n",
            "5076      36     595       4 2002-12-22 08:18:29         0.0         53   \n",
            "5126      36    1295       4 2002-12-22 08:18:29         0.0         53   \n",
            "5180      36    3639       4 2002-12-22 08:18:45        16.0         53   \n",
            "8704      59    2997       4 2003-01-07 18:02:48  64027176.0         71   \n",
            "\n",
            "      item_idx  \n",
            "5364         0  \n",
            "5262         1  \n",
            "5280         2  \n",
            "5222         3  \n",
            "5104         4  \n",
            "5062         5  \n",
            "5076         6  \n",
            "5126         7  \n",
            "5180         8  \n",
            "8704         9  \n",
            "Click Offsets: [   0    9   29   80  134  145  147  152  159  170  172  212  255  257\n",
            "  259  264  268  326  340  343  345  347  349  351  353  356  359  361\n",
            "  363  365  368  370  374  376  378  381  383  385  387  389  393  395\n",
            "  397  399  562  568  623  635  638  640  642  644  646  648  651  653\n",
            "  655  657  660  664  666  669  674  676  678  680  682  684  686  688\n",
            "  690  693  707  709  715  717  719  722  724  726  729  731  734  737\n",
            "  739  741  745  784  820  822  832  834  839  841  848  850  852  872\n",
            "  874  890  899  901  909  911  913  918  920  924  926  955  958  965\n",
            "  967 1009 1013 1016 1018 1021 1023 1025 1028 1031 1035 1037 1039 1041\n",
            " 1044 1048 1051 1055 1082 1090 1092 1096 1099 1101 1103 1197 1340 1361\n",
            " 1368 1399 1402 1407 1425 1427 1431 1436 1446 1448 1450 1483 1485 1488\n",
            " 1490 1495 1500 1517 1519 1522 1527 1539 1541 1543 1546 1548 1560 1571\n",
            " 1573 1576 1578 1582 1584 1595 1597 1604 1608 1611 1613 1619 1623 1657\n",
            " 1690 1693 1695 1724 1726 1728 1738 1745 1747 1756 1769 1771 1773 1775\n",
            " 1778 1780 1785 1787 1811 1813 1822 1826 1828 1849 1868 1914 1918 1924\n",
            " 1926 1928 1934 1936 1938 1942 1944 1961 1988 1990 1993 2009 2016 2024\n",
            " 2037 2055 2057 2088 2093 2095 2109 2152 2156 2158 2221 2233 2240 2251\n",
            " 2255 2291 2294 2296 2298 2318 2320 2332 2429 2438 2455 2457 2459 2509\n",
            " 2595 2597 2601 2641 2643 2645 2652 2667 2675 2677 2681 2683 2694 2696\n",
            " 2701 2704 2710 2713 2716 2718 2720 2722 2725 2735 2737 2739 2744 2752\n",
            " 2754 2760 2799 2818 2839 2842 2847 2865 2876 2888 2891 2909 2921 2927\n",
            " 2929 2942 2950 2953 2957 2959 2966 2968 2985 2996 3000 3004 3024 3026\n",
            " 3034 3038 3040 3054 3056 3059 3061 3065 3067 3075 3079 3083 3086 3088\n",
            " 3099 3119 3183 3188 3190 3193 3201 3203 3215 3311 3318 3331 3334 3337\n",
            " 3346 3348 3359 3362 3374 3376 3379 3390 3395 3397 3402 3414 3515 3517\n",
            " 3519 3564 3571 3574 3579 3582 3588 3590 3597 3600 3603 3605 3609 3615\n",
            " 3617 3623 3631 3636 3648 3663 3676 3695 3698 3713 3715 3719 3721 3727\n",
            " 3755 3767 3769 3773 3775 3777 3814 3827 3843 3859 3881 3895 3902 3974\n",
            " 3985 4009 4013 4048 4060 4077 4102 4115 4167 4172 4175 4177 4193 4195\n",
            " 4197 4205 4207 4212 4239 4246 4248 4250 4278 4283 4286 4289 4291 4293\n",
            " 4299 4301 4304 4306 4308 4319 4355 4358 4361 4363 4367 4404 4406 4409\n",
            " 4463 4465 4584 4587]\n",
            "Session Index: [  0   1   2   3   4   5   6   7   8   9  10  11  12  13  14  15  16  17\n",
            "  18  19  20  21  22  23  24  25  26  27  28  29  30  31  32  33  34  35\n",
            "  36  37  38  39  40  41  42  43  44  45  46  47  48  49  50  51  52  53\n",
            "  54  55  56  57  58  59  60  61  62  63  64  65  66  67  68  69  70  71\n",
            "  72  73  74  75  76  77  78  79  80  81  82  83  84  85  86  87  88  89\n",
            "  90  91  92  93  94  95  96  97  98  99 100 101 102 103 104 105 106 107\n",
            " 108 109 110 111 112 113 114 115 116 117 118 119 120 121 122 123 124 125\n",
            " 126 127 128 129 130 131 132 133 134 135 136 137 138 139 140 141 142 143\n",
            " 144 145 146 147 148 149 150 151 152 153 154 155 156 157 158 159 160 161\n",
            " 162 163 164 165 166 167 168 169 170 171 172 173 174 175 176 177 178 179\n",
            " 180 181 182 183 184 185 186 187 188 189 190 191 192 193 194 195 196 197\n",
            " 198 199 200 201 202 203 204 205 206 207 208 209 210 211 212 213 214 215\n",
            " 216 217 218 219 220 221 222 223 224 225 226 227 228 229 230 231 232 233\n",
            " 234 235 236 237 238 239 240 241 242 243 244 245 246 247 248 249 250 251\n",
            " 252 253 254 255 256 257 258 259 260 261 262 263 264 265 266 267 268 269\n",
            " 270 271 272 273 274 275 276 277 278 279 280 281 282 283 284 285 286 287\n",
            " 288 289 290 291 292 293 294 295 296 297 298 299 300 301 302 303 304 305\n",
            " 306 307 308 309 310 311 312 313 314 315 316 317 318 319 320 321 322 323\n",
            " 324 325 326 327 328 329 330 331 332 333 334 335 336 337 338 339 340 341\n",
            " 342 343 344 345 346 347 348 349 350 351 352 353 354 355 356 357 358 359\n",
            " 360 361 362 363 364 365 366 367 368 369 370 371 372 373 374 375 376 377\n",
            " 378 379 380 381 382 383 384 385 386 387 388 389 390 391 392 393 394 395\n",
            " 396 397 398 399 400 401 402 403 404 405 406 407 408 409 410 411 412 413\n",
            " 414 415 416 417 418 419 420 421 422 423 424 425 426 427 428 429 430 431\n",
            " 432 433 434 435 436]\n",
            "Model Input Item Idx are : [ 0  9 28 78]\n",
            "Label Item Idx are :       [ 1  1 29 79]\n",
            "Previous Masked Input Idx are []\n"
          ]
        }
      ],
      "source": [
        "class SessionDataset:\n",
        "    \"\"\"Credit to yhs-968/pyGRU4REC.\"\"\"\n",
        "\n",
        "    def __init__(self, data2):\n",
        "        self.df = data2\n",
        "        self.click_offsets = self.get_click_offsets()\n",
        "        self.session_idx = np.arange(self.df['SessionId'].nunique())\n",
        "\n",
        "    def get_click_offsets(self):\n",
        "        \"\"\"\n",
        "        Return the indexes of the first click of each session IDs.\n",
        "        \"\"\"\n",
        "        offsets = np.zeros(self.df['SessionId'].nunique() + 1, dtype=np.int32)\n",
        "        offsets[1:] = self.df.groupby('SessionId').size().cumsum()\n",
        "        return offsets\n",
        "\n",
        "\n",
        "class SessionDataLoader:\n",
        "    def __init__(self, dataset: SessionDataset, batch_size=50):\n",
        "        self.dataset = dataset\n",
        "        self.batch_size = batch_size\n",
        "    def __iter__(self):\n",
        "        start, end, mask, last_session, finished = self.initialize()\n",
        "\n",
        "        while not finished:\n",
        "            min_len = (end - start).min() - 1\n",
        "            for i in range(min_len):\n",
        "                inp = self.dataset.df['item_idx'].values[start + i]\n",
        "                target = self.dataset.df['item_idx'].values[start + i + 1]\n",
        "                yield inp, target, mask\n",
        "\n",
        "            start, end, mask, last_session, finished = self.update_status(start, end, min_len, last_session, finished)\n",
        "\n",
        "        # 마지막 배치 크기가 batch_size보다 작은 경우 처리\n",
        "        if len(start) < self.batch_size:\n",
        "            start = np.pad(start, (0, self.batch_size - len(start)), constant_values=0)\n",
        "            end = np.pad(end, (0, self.batch_size - len(end)), constant_values=0)\n",
        "            mask = np.pad(mask, (0, self.batch_size - len(mask)), constant_values=0)\n",
        "\n",
        "\n",
        "    def initialize(self):\n",
        "        first_iters = np.arange(min(self.batch_size, len(self.dataset.session_idx)))\n",
        "        last_session = len(first_iters) - 1\n",
        "        start = self.dataset.click_offsets[self.dataset.session_idx[first_iters]]\n",
        "        end = self.dataset.click_offsets[self.dataset.session_idx[first_iters] + 1]\n",
        "        mask = np.array([])\n",
        "        finished = False\n",
        "        return start, end, mask, last_session, finished\n",
        "\n",
        "    def update_status(self, start: np.ndarray, end: np.ndarray, min_len: int, last_session: int, finished: bool):\n",
        "        start += min_len\n",
        "        mask = np.arange(min(self.batch_size, len(start)))[(end - start) == 1]\n",
        "\n",
        "        for i, idx in enumerate(mask, start=1):\n",
        "            new_session = last_session + i\n",
        "            if new_session >= len(self.dataset.session_idx):\n",
        "                finished = True\n",
        "                break\n",
        "            start[idx] = self.dataset.click_offsets[self.dataset.session_idx[new_session]]\n",
        "            end[idx] = self.dataset.click_offsets[self.dataset.session_idx[new_session] + 1]\n",
        "\n",
        "        last_session += len(mask)\n",
        "        return start, end, mask, last_session, finished\n",
        "\n",
        "\n",
        "\n",
        "tr_dataset = SessionDataset(train_data)\n",
        "print(tr_dataset.df.head(10))\n",
        "print(\"Click Offsets:\", tr_dataset.click_offsets)\n",
        "print(\"Session Index:\", tr_dataset.session_idx)\n",
        "\n",
        "\n",
        "tr_data_loader = SessionDataLoader(tr_dataset, batch_size=4)\n",
        "\n",
        "\n",
        "iter_ex = iter(tr_data_loader)\n",
        "inputs, labels, mask = next(iter_ex)\n",
        "\n",
        "print(f'Model Input Item Idx are : {inputs}')\n",
        "print(f'Label Item Idx are : {\"\":5} {labels}')\n",
        "print(f'Previous Masked Input Idx are {mask}')\n"
      ]
    },
    {
      "cell_type": "code",
      "execution_count": null,
      "id": "64b60fe2",
      "metadata": {
        "id": "64b60fe2"
      },
      "outputs": [],
      "source": [
        "import numpy as np\n",
        "import tensorflow as tf\n",
        "from tensorflow.keras.layers import Input, Dense, Dropout, GRU\n",
        "from tensorflow.keras.losses import categorical_crossentropy\n",
        "from tensorflow.keras.models import Model\n",
        "from tensorflow.keras.optimizers import Adam\n",
        "from tensorflow.keras.utils import to_categorical\n",
        "from tqdm import tqdm\n",
        "\n",
        "\n",
        "def mrr_k(pred, truth: int, k: int):\n",
        "    indexing = np.where(pred[:k] == truth)[0]\n",
        "    if len(indexing) > 0:\n",
        "        return 1 / (indexing[0] + 1)\n",
        "    else:\n",
        "        return 0\n",
        "\n",
        "\n",
        "def recall_k(pred, truth: int, k: int) -> int:\n",
        "    answer = truth in pred[:k]\n",
        "    return int(answer)\n",
        "\n",
        "def create_model(args):\n",
        "    inputs = Input(batch_shape=(None, 1, args.num_items))  # None으로 배치 크기 유연화\n",
        "    gru = GRU(args.hsz, return_sequences=False, name='GRU')(inputs)  # stateful=False\n",
        "    dropout = Dropout(args.drop_rate)(gru)\n",
        "    predictions = Dense(args.num_items, activation='softmax')(dropout)\n",
        "    model = Model(inputs=inputs, outputs=[predictions])\n",
        "    model.compile(loss=categorical_crossentropy, optimizer=Adam(args.lr), metrics=['accuracy'])\n",
        "    model.summary()\n",
        "    return model\n",
        "\n",
        "\n",
        "\n",
        "class Args:\n",
        "    def __init__(self, train_data, validation_data, test_data, batch_size, hsz, drop_rate, lr, epochs, k):\n",
        "        self.train_data = train_data\n",
        "        self.validation_data = validation_data\n",
        "        self.test_data = test_data\n",
        "        self.num_items = train_data['ItemId'].nunique()\n",
        "        self.num_sessions = train_data['SessionId'].nunique()\n",
        "        self.batch_size = batch_size\n",
        "        self.hsz = hsz\n",
        "        self.drop_rate = drop_rate\n",
        "        self.lr = lr\n",
        "        self.epochs = epochs\n",
        "        self.k = k\n",
        "\n",
        "args = Args(train_data, valid_data, test_data, batch_size=2048, hsz=50, drop_rate=0.1, lr=0.001, epochs=3, k=20)\n",
        "\n",
        "\n"
      ]
    },
    {
      "cell_type": "code",
      "execution_count": null,
      "id": "5eb6f767",
      "metadata": {
        "id": "5eb6f767",
        "outputId": "18cee5bf-445b-46d7-dec8-073dce0b7b36"
      },
      "outputs": [
        {
          "name": "stdout",
          "output_type": "stream",
          "text": [
            "Model: \"model_9\"\n",
            "_________________________________________________________________\n",
            "Layer (type)                 Output Shape              Param #   \n",
            "=================================================================\n",
            "input_14 (InputLayer)        [(None, 1, 587)]          0         \n",
            "_________________________________________________________________\n",
            "GRU (GRU)                    (None, 50)                95850     \n",
            "_________________________________________________________________\n",
            "dropout_9 (Dropout)          (None, 50)                0         \n",
            "_________________________________________________________________\n",
            "dense_9 (Dense)              (None, 587)               29937     \n",
            "=================================================================\n",
            "Total params: 125,787\n",
            "Trainable params: 125,787\n",
            "Non-trainable params: 0\n",
            "_________________________________________________________________\n"
          ]
        }
      ],
      "source": [
        "args = Args(\n",
        "    train_data=train_data,\n",
        "    validation_data=valid_data,\n",
        "    test_data=test_data,\n",
        "    batch_size=128,\n",
        "    hsz=50,\n",
        "    drop_rate=0.1,\n",
        "    lr=0.001,\n",
        "    epochs=3,\n",
        "    k=20\n",
        ")\n",
        "\n",
        "\n",
        "model = create_model(args)"
      ]
    },
    {
      "cell_type": "code",
      "execution_count": null,
      "id": "6692152c",
      "metadata": {
        "id": "6692152c"
      },
      "outputs": [],
      "source": [
        "def train_model(model, args):\n",
        "    train_dataset = SessionDataset(args.train_data)\n",
        "    train_loader = SessionDataLoader(train_dataset, batch_size=args.batch_size)\n",
        "\n",
        "    for epoch in range(1, args.epochs + 1):\n",
        "        total_step = len(args.train_data) - args.train_data['SessionId'].nunique()\n",
        "        tr_loader = tqdm(train_loader, total=total_step // args.batch_size, desc='Train', mininterval=1)\n",
        "\n",
        "        for feat, target, mask in tr_loader:\n",
        "\n",
        "            input_ohe = to_categorical(feat, num_classes=args.num_items)\n",
        "            input_ohe = np.expand_dims(input_ohe, axis=1)\n",
        "            target_ohe = to_categorical(target, num_classes=args.num_items)\n",
        "\n",
        "            result = model.train_on_batch(input_ohe, target_ohe)\n",
        "            tr_loader.set_postfix(train_loss=result[0], accuracy=result[1])\n",
        "\n",
        "        val_recall, val_mrr = get_metrics(args.validation_data, model, args, args.k, args.batch_size)\n",
        "        print(f\"\\t - Recall@{args.k} epoch {epoch}: {val_recall:.3f}\")\n",
        "        print(f\"\\t - MRR@{args.k}    epoch {epoch}: {val_mrr:.3f}\\n\")\n",
        "\n",
        "\n",
        "def reset_hidden_states(model, mask):\n",
        "    gru_layer = model.get_layer(name='GRU')\n",
        "    hidden_states = gru_layer.states[0]\n",
        "\n",
        "    for elt in mask:\n",
        "        hidden_states[elt, :].assign(tf.zeros_like(hidden_states[elt, :]))\n",
        "\n",
        "\n",
        "\n",
        "def get_metrics(data, model, args, k: int, batch_size: int):\n",
        "    dataset = SessionDataset(data)\n",
        "    loader = SessionDataLoader(dataset, batch_size=batch_size)\n",
        "    recall_list, mrr_list = [], []\n",
        "\n",
        "    for inputs, label, mask in loader:\n",
        "\n",
        "        input_ohe = to_categorical(inputs, num_classes=args.num_items)\n",
        "        input_ohe = np.expand_dims(input_ohe, axis=1)\n",
        "\n",
        "        pred = model.predict(input_ohe, batch_size=batch_size)\n",
        "        pred_arg = tf.argsort(pred, direction='DESCENDING')\n",
        "\n",
        "        for i in range(len(inputs)):\n",
        "            recall_list.append(recall_k(pred_arg[i], label[i], k))\n",
        "            mrr_list.append(mrr_k(pred_arg[i], label[i], k))\n",
        "\n",
        "    recall = np.mean(recall_list)\n",
        "    mrr = np.mean(mrr_list)\n",
        "    return recall, mrr\n"
      ]
    },
    {
      "cell_type": "code",
      "execution_count": null,
      "id": "f2a4259a",
      "metadata": {
        "id": "f2a4259a",
        "outputId": "f6578667-efdd-43cc-8491-85c40baa9405"
      },
      "outputs": [
        {
          "name": "stderr",
          "output_type": "stream",
          "text": [
            "Train:  44%|████▍     | 14/32 [00:00<00:00, 111.02it/s, accuracy=0, train_loss=6.38]\n"
          ]
        },
        {
          "name": "stdout",
          "output_type": "stream",
          "text": [
            "\t - Recall@20 epoch 1: 0.111\n",
            "\t - MRR@20    epoch 1: 0.019\n",
            "\n"
          ]
        },
        {
          "name": "stderr",
          "output_type": "stream",
          "text": [
            "Train:  44%|████▍     | 14/32 [00:00<00:00, 114.64it/s, accuracy=0.00781, train_loss=6.37]\n"
          ]
        },
        {
          "name": "stdout",
          "output_type": "stream",
          "text": [
            "\t - Recall@20 epoch 2: 0.111\n",
            "\t - MRR@20    epoch 2: 0.014\n",
            "\n"
          ]
        },
        {
          "name": "stderr",
          "output_type": "stream",
          "text": [
            "Train:  44%|████▍     | 14/32 [00:00<00:00, 114.65it/s, accuracy=0.0234, train_loss=6.36]\n"
          ]
        },
        {
          "name": "stdout",
          "output_type": "stream",
          "text": [
            "\t - Recall@20 epoch 3: 0.111\n",
            "\t - MRR@20    epoch 3: 0.011\n",
            "\n"
          ]
        }
      ],
      "source": [
        "train_model(model, args)"
      ]
    },
    {
      "cell_type": "code",
      "execution_count": null,
      "id": "5990efd4",
      "metadata": {
        "id": "5990efd4"
      },
      "outputs": [],
      "source": [
        "def test_model(model, args, test_data):\n",
        "\n",
        "    test_recall, test_mrr = get_metrics(test_data, model, args, args.k, args.batch_size)\n",
        "    print(f\"\\t - Recall@{args.k}: {test_recall:.3f}\")\n",
        "    print(f\"\\t - MRR@{args.k}: {test_mrr:.3f}\\n\")\n"
      ]
    },
    {
      "cell_type": "code",
      "execution_count": null,
      "id": "a27878cd",
      "metadata": {
        "id": "a27878cd",
        "outputId": "2236607a-8000-49b7-d023-62a3064566da"
      },
      "outputs": [
        {
          "name": "stdout",
          "output_type": "stream",
          "text": [
            "\t - Recall@20: 0.000\n",
            "\t - MRR@20: 0.000\n",
            "\n"
          ]
        }
      ],
      "source": [
        "test_model(model, args, test_data)"
      ]
    },
    {
      "cell_type": "code",
      "execution_count": null,
      "id": "13bd793f",
      "metadata": {
        "id": "13bd793f",
        "outputId": "321f45f7-6ec5-4f61-dce1-eb74ccf854bb"
      },
      "outputs": [
        {
          "name": "stdout",
          "output_type": "stream",
          "text": [
            "Model: \"model_8\"\n",
            "_________________________________________________________________\n",
            "Layer (type)                 Output Shape              Param #   \n",
            "=================================================================\n",
            "input_13 (InputLayer)        [(None, 1, 587)]          0         \n",
            "_________________________________________________________________\n",
            "GRU (GRU)                    (None, 100)               206700    \n",
            "_________________________________________________________________\n",
            "dropout_8 (Dropout)          (None, 100)               0         \n",
            "_________________________________________________________________\n",
            "dense_8 (Dense)              (None, 587)               59287     \n",
            "=================================================================\n",
            "Total params: 265,987\n",
            "Trainable params: 265,987\n",
            "Non-trainable params: 0\n",
            "_________________________________________________________________\n"
          ]
        },
        {
          "name": "stderr",
          "output_type": "stream",
          "text": [
            "Train:  44%|████▍     | 14/32 [00:01<00:01, 12.56it/s, accuracy=0, train_loss=6.37]     \n"
          ]
        },
        {
          "name": "stdout",
          "output_type": "stream",
          "text": [
            "\t - Recall@20 epoch 1: 0.000\n",
            "\t - MRR@20    epoch 1: 0.000\n",
            "\n"
          ]
        },
        {
          "name": "stderr",
          "output_type": "stream",
          "text": [
            "Train:  44%|████▍     | 14/32 [00:00<00:00, 116.01it/s, accuracy=0, train_loss=6.37]\n"
          ]
        },
        {
          "name": "stdout",
          "output_type": "stream",
          "text": [
            "\t - Recall@20 epoch 2: 0.000\n",
            "\t - MRR@20    epoch 2: 0.000\n",
            "\n"
          ]
        },
        {
          "name": "stderr",
          "output_type": "stream",
          "text": [
            "Train:  44%|████▍     | 14/32 [00:00<00:00, 115.08it/s, accuracy=0, train_loss=6.36]\n"
          ]
        },
        {
          "name": "stdout",
          "output_type": "stream",
          "text": [
            "\t - Recall@20 epoch 3: 0.000\n",
            "\t - MRR@20    epoch 3: 0.000\n",
            "\n"
          ]
        },
        {
          "name": "stderr",
          "output_type": "stream",
          "text": [
            "Train:  44%|████▍     | 14/32 [00:00<00:00, 115.19it/s, accuracy=0.00781, train_loss=6.35]\n"
          ]
        },
        {
          "name": "stdout",
          "output_type": "stream",
          "text": [
            "\t - Recall@20 epoch 4: 0.000\n",
            "\t - MRR@20    epoch 4: 0.000\n",
            "\n"
          ]
        },
        {
          "name": "stderr",
          "output_type": "stream",
          "text": [
            "Train:  44%|████▍     | 14/32 [00:00<00:00, 116.40it/s, accuracy=0.0156, train_loss=6.34]\n"
          ]
        },
        {
          "name": "stdout",
          "output_type": "stream",
          "text": [
            "\t - Recall@20 epoch 5: 0.000\n",
            "\t - MRR@20    epoch 5: 0.000\n",
            "\n"
          ]
        },
        {
          "name": "stderr",
          "output_type": "stream",
          "text": [
            "Train:  44%|████▍     | 14/32 [00:00<00:00, 115.35it/s, accuracy=0.0156, train_loss=6.33]\n"
          ]
        },
        {
          "name": "stdout",
          "output_type": "stream",
          "text": [
            "\t - Recall@20 epoch 6: 0.000\n",
            "\t - MRR@20    epoch 6: 0.000\n",
            "\n"
          ]
        },
        {
          "name": "stderr",
          "output_type": "stream",
          "text": [
            "Train:  44%|████▍     | 14/32 [00:00<00:00, 116.92it/s, accuracy=0.0312, train_loss=6.32]\n"
          ]
        },
        {
          "name": "stdout",
          "output_type": "stream",
          "text": [
            "\t - Recall@20 epoch 7: 0.000\n",
            "\t - MRR@20    epoch 7: 0.000\n",
            "\n"
          ]
        },
        {
          "name": "stderr",
          "output_type": "stream",
          "text": [
            "Train:  44%|████▍     | 14/32 [00:00<00:00, 114.07it/s, accuracy=0.0234, train_loss=6.3]\n"
          ]
        },
        {
          "name": "stdout",
          "output_type": "stream",
          "text": [
            "\t - Recall@20 epoch 8: 0.000\n",
            "\t - MRR@20    epoch 8: 0.000\n",
            "\n"
          ]
        },
        {
          "name": "stderr",
          "output_type": "stream",
          "text": [
            "Train:  44%|████▍     | 14/32 [00:00<00:00, 112.56it/s, accuracy=0.0156, train_loss=6.28]\n"
          ]
        },
        {
          "name": "stdout",
          "output_type": "stream",
          "text": [
            "\t - Recall@20 epoch 9: 0.000\n",
            "\t - MRR@20    epoch 9: 0.000\n",
            "\n"
          ]
        },
        {
          "name": "stderr",
          "output_type": "stream",
          "text": [
            "Train:  44%|████▍     | 14/32 [00:00<00:00, 115.17it/s, accuracy=0.0156, train_loss=6.26]\n"
          ]
        },
        {
          "name": "stdout",
          "output_type": "stream",
          "text": [
            "\t - Recall@20 epoch 10: 0.000\n",
            "\t - MRR@20    epoch 10: 0.000\n",
            "\n",
            "\t - Recall@20: 0.000\n",
            "\t - MRR@20: 0.000\n",
            "\n"
          ]
        }
      ],
      "source": [
        "args = Args(\n",
        "    train_data=train_data,\n",
        "    validation_data=valid_data,\n",
        "    test_data=test_data,\n",
        "    batch_size=128,  # 기존 값 유지\n",
        "    hsz=100,         # hidden size 증가\n",
        "    drop_rate=0.05,  # 드롭아웃 감소\n",
        "    lr=0.0005,       # 학습률 감소\n",
        "    epochs=10,       # 에포크 증가\n",
        "    k=20             # Recall@20, MRR@20 유지\n",
        ")\n",
        "\n",
        "model = create_model(args)\n",
        "train_model(model, args)\n",
        "test_model(model, args, test_data)\n"
      ]
    },
    {
      "cell_type": "code",
      "execution_count": null,
      "id": "63f77866",
      "metadata": {
        "id": "63f77866",
        "outputId": "de318a7a-6fe5-4a82-c6c2-9bd725688fbc"
      },
      "outputs": [
        {
          "name": "stdout",
          "output_type": "stream",
          "text": [
            "Number of sessions in train_data: 437\n",
            "Number of items in train_data: 587\n"
          ]
        }
      ],
      "source": [
        "#문제 해결필요..\n",
        "print(f\"Number of sessions in train_data: {train_data['SessionId'].nunique()}\")\n",
        "print(f\"Number of items in train_data: {train_data['ItemId'].nunique()}\")\n",
        "\n",
        "#세션 단위로 , 기간별로 끊다보니 줄여서 학습양이 적어서 그런걸까?"
      ]
    },
    {
      "cell_type": "code",
      "execution_count": null,
      "id": "a0f67525",
      "metadata": {
        "id": "a0f67525",
        "outputId": "caf403d0-35dc-4a96-da0c-a12a5c19ec1d"
      },
      "outputs": [
        {
          "name": "stdout",
          "output_type": "stream",
          "text": [
            "Model: \"model_10\"\n",
            "_________________________________________________________________\n",
            "Layer (type)                 Output Shape              Param #   \n",
            "=================================================================\n",
            "input_15 (InputLayer)        [(None, 1, 587)]          0         \n",
            "_________________________________________________________________\n",
            "GRU (GRU)                    (None, 128)               275328    \n",
            "_________________________________________________________________\n",
            "dropout_10 (Dropout)         (None, 128)               0         \n",
            "_________________________________________________________________\n",
            "dense_10 (Dense)             (None, 587)               75723     \n",
            "=================================================================\n",
            "Total params: 351,051\n",
            "Trainable params: 351,051\n",
            "Non-trainable params: 0\n",
            "_________________________________________________________________\n"
          ]
        },
        {
          "name": "stderr",
          "output_type": "stream",
          "text": [
            "Train:  67%|██████▋   | 43/64 [00:01<00:00, 33.31it/s, accuracy=0, train_loss=6.37]    \n"
          ]
        },
        {
          "name": "stdout",
          "output_type": "stream",
          "text": [
            "\t - Recall@20 epoch 1: 0.000\n",
            "\t - MRR@20    epoch 1: 0.000\n",
            "\n"
          ]
        },
        {
          "name": "stderr",
          "output_type": "stream",
          "text": [
            "Train:  67%|██████▋   | 43/64 [00:00<00:00, 121.53it/s, accuracy=0, train_loss=6.36]\n"
          ]
        },
        {
          "name": "stdout",
          "output_type": "stream",
          "text": [
            "\t - Recall@20 epoch 2: 0.000\n",
            "\t - MRR@20    epoch 2: 0.000\n",
            "\n"
          ]
        },
        {
          "name": "stderr",
          "output_type": "stream",
          "text": [
            "Train:  67%|██████▋   | 43/64 [00:00<00:00, 117.90it/s, accuracy=0.0156, train_loss=6.34]\n"
          ]
        },
        {
          "name": "stdout",
          "output_type": "stream",
          "text": [
            "\t - Recall@20 epoch 3: 0.000\n",
            "\t - MRR@20    epoch 3: 0.000\n",
            "\n"
          ]
        },
        {
          "name": "stderr",
          "output_type": "stream",
          "text": [
            "Train:  67%|██████▋   | 43/64 [00:00<00:00, 122.86it/s, accuracy=0.0312, train_loss=6.32]\n"
          ]
        },
        {
          "name": "stdout",
          "output_type": "stream",
          "text": [
            "\t - Recall@20 epoch 4: 0.000\n",
            "\t - MRR@20    epoch 4: 0.000\n",
            "\n"
          ]
        },
        {
          "name": "stderr",
          "output_type": "stream",
          "text": [
            "Train:  67%|██████▋   | 43/64 [00:00<00:00, 121.86it/s, accuracy=0.0312, train_loss=6.3]\n"
          ]
        },
        {
          "name": "stdout",
          "output_type": "stream",
          "text": [
            "\t - Recall@20 epoch 5: 0.000\n",
            "\t - MRR@20    epoch 5: 0.000\n",
            "\n"
          ]
        },
        {
          "name": "stderr",
          "output_type": "stream",
          "text": [
            "Train:  67%|██████▋   | 43/64 [00:00<00:00, 122.06it/s, accuracy=0.0156, train_loss=6.26]\n"
          ]
        },
        {
          "name": "stdout",
          "output_type": "stream",
          "text": [
            "\t - Recall@20 epoch 6: 0.000\n",
            "\t - MRR@20    epoch 6: 0.000\n",
            "\n"
          ]
        },
        {
          "name": "stderr",
          "output_type": "stream",
          "text": [
            "Train:  67%|██████▋   | 43/64 [00:00<00:00, 126.60it/s, accuracy=0.0156, train_loss=6.21]\n"
          ]
        },
        {
          "name": "stdout",
          "output_type": "stream",
          "text": [
            "\t - Recall@20 epoch 7: 0.000\n",
            "\t - MRR@20    epoch 7: 0.000\n",
            "\n"
          ]
        },
        {
          "name": "stderr",
          "output_type": "stream",
          "text": [
            "Train:  67%|██████▋   | 43/64 [00:00<00:00, 123.26it/s, accuracy=0.0156, train_loss=6.17]\n"
          ]
        },
        {
          "name": "stdout",
          "output_type": "stream",
          "text": [
            "\t - Recall@20 epoch 8: 0.000\n",
            "\t - MRR@20    epoch 8: 0.000\n",
            "\n"
          ]
        },
        {
          "name": "stderr",
          "output_type": "stream",
          "text": [
            "Train:  67%|██████▋   | 43/64 [00:00<00:00, 123.74it/s, accuracy=0.0156, train_loss=6.13]\n"
          ]
        },
        {
          "name": "stdout",
          "output_type": "stream",
          "text": [
            "\t - Recall@20 epoch 9: 0.000\n",
            "\t - MRR@20    epoch 9: 0.000\n",
            "\n"
          ]
        },
        {
          "name": "stderr",
          "output_type": "stream",
          "text": [
            "Train:  67%|██████▋   | 43/64 [00:00<00:00, 120.74it/s, accuracy=0.0156, train_loss=6.11]\n"
          ]
        },
        {
          "name": "stdout",
          "output_type": "stream",
          "text": [
            "\t - Recall@20 epoch 10: 0.000\n",
            "\t - MRR@20    epoch 10: 0.000\n",
            "\n"
          ]
        },
        {
          "name": "stderr",
          "output_type": "stream",
          "text": [
            "Train:  67%|██████▋   | 43/64 [00:00<00:00, 124.87it/s, accuracy=0.0156, train_loss=6.07]\n"
          ]
        },
        {
          "name": "stdout",
          "output_type": "stream",
          "text": [
            "\t - Recall@20 epoch 11: 0.000\n",
            "\t - MRR@20    epoch 11: 0.000\n",
            "\n"
          ]
        },
        {
          "name": "stderr",
          "output_type": "stream",
          "text": [
            "Train:  67%|██████▋   | 43/64 [00:00<00:00, 121.44it/s, accuracy=0.0312, train_loss=6.04]\n"
          ]
        },
        {
          "name": "stdout",
          "output_type": "stream",
          "text": [
            "\t - Recall@20 epoch 12: 0.000\n",
            "\t - MRR@20    epoch 12: 0.000\n",
            "\n"
          ]
        },
        {
          "name": "stderr",
          "output_type": "stream",
          "text": [
            "Train:  67%|██████▋   | 43/64 [00:00<00:00, 122.12it/s, accuracy=0.0312, train_loss=5.99]\n"
          ]
        },
        {
          "name": "stdout",
          "output_type": "stream",
          "text": [
            "\t - Recall@20 epoch 13: 0.000\n",
            "\t - MRR@20    epoch 13: 0.000\n",
            "\n"
          ]
        },
        {
          "name": "stderr",
          "output_type": "stream",
          "text": [
            "Train:  67%|██████▋   | 43/64 [00:00<00:00, 124.30it/s, accuracy=0.0312, train_loss=5.96]\n"
          ]
        },
        {
          "name": "stdout",
          "output_type": "stream",
          "text": [
            "\t - Recall@20 epoch 14: 0.000\n",
            "\t - MRR@20    epoch 14: 0.000\n",
            "\n"
          ]
        },
        {
          "name": "stderr",
          "output_type": "stream",
          "text": [
            "Train:  67%|██████▋   | 43/64 [00:00<00:00, 125.29it/s, accuracy=0.0469, train_loss=5.92]\n"
          ]
        },
        {
          "name": "stdout",
          "output_type": "stream",
          "text": [
            "\t - Recall@20 epoch 15: 0.000\n",
            "\t - MRR@20    epoch 15: 0.000\n",
            "\n"
          ]
        },
        {
          "name": "stderr",
          "output_type": "stream",
          "text": [
            "Train:  67%|██████▋   | 43/64 [00:00<00:00, 120.12it/s, accuracy=0.0312, train_loss=5.87]\n"
          ]
        },
        {
          "name": "stdout",
          "output_type": "stream",
          "text": [
            "\t - Recall@20 epoch 16: 0.000\n",
            "\t - MRR@20    epoch 16: 0.000\n",
            "\n"
          ]
        },
        {
          "name": "stderr",
          "output_type": "stream",
          "text": [
            "Train:  67%|██████▋   | 43/64 [00:00<00:00, 126.27it/s, accuracy=0.0469, train_loss=5.83]\n"
          ]
        },
        {
          "name": "stdout",
          "output_type": "stream",
          "text": [
            "\t - Recall@20 epoch 17: 0.000\n",
            "\t - MRR@20    epoch 17: 0.000\n",
            "\n"
          ]
        },
        {
          "name": "stderr",
          "output_type": "stream",
          "text": [
            "Train:  67%|██████▋   | 43/64 [00:00<00:00, 124.83it/s, accuracy=0.0469, train_loss=5.77]\n"
          ]
        },
        {
          "name": "stdout",
          "output_type": "stream",
          "text": [
            "\t - Recall@20 epoch 18: 0.000\n",
            "\t - MRR@20    epoch 18: 0.000\n",
            "\n"
          ]
        },
        {
          "name": "stderr",
          "output_type": "stream",
          "text": [
            "Train:  67%|██████▋   | 43/64 [00:00<00:00, 124.13it/s, accuracy=0.0469, train_loss=5.7]\n"
          ]
        },
        {
          "name": "stdout",
          "output_type": "stream",
          "text": [
            "\t - Recall@20 epoch 19: 0.000\n",
            "\t - MRR@20    epoch 19: 0.000\n",
            "\n"
          ]
        },
        {
          "name": "stderr",
          "output_type": "stream",
          "text": [
            "Train:  67%|██████▋   | 43/64 [00:00<00:00, 124.38it/s, accuracy=0.0781, train_loss=5.64]\n"
          ]
        },
        {
          "name": "stdout",
          "output_type": "stream",
          "text": [
            "\t - Recall@20 epoch 20: 0.000\n",
            "\t - MRR@20    epoch 20: 0.000\n",
            "\n",
            "\t - Recall@20: 0.000\n",
            "\t - MRR@20: 0.000\n",
            "\n"
          ]
        }
      ],
      "source": [
        "args = Args(\n",
        "    train_data=train_data,\n",
        "    validation_data=valid_data,\n",
        "    test_data=test_data,\n",
        "    batch_size=64,\n",
        "    hsz=128,\n",
        "    drop_rate=0.05,\n",
        "    lr=0.0005,\n",
        "    epochs=20,\n",
        "    k=20\n",
        ")\n",
        "\n",
        "model = create_model(args)\n",
        "train_model(model, args)\n",
        "test_model(model, args, test_data)\n"
      ]
    },
    {
      "cell_type": "code",
      "execution_count": null,
      "id": "51c4e055",
      "metadata": {
        "id": "51c4e055",
        "outputId": "06beaaf8-8f51-45df-beef-d8d846c2d327"
      },
      "outputs": [
        {
          "name": "stdout",
          "output_type": "stream",
          "text": [
            "Model: \"model_13\"\n",
            "_________________________________________________________________\n",
            "Layer (type)                 Output Shape              Param #   \n",
            "=================================================================\n",
            "input_18 (InputLayer)        [(None, 1, 587)]          0         \n",
            "_________________________________________________________________\n",
            "GRU_1 (GRU)                  (None, 1, 128)            275328    \n",
            "_________________________________________________________________\n",
            "GRU_2 (GRU)                  (None, 128)               99072     \n",
            "_________________________________________________________________\n",
            "dropout_13 (Dropout)         (None, 128)               0         \n",
            "_________________________________________________________________\n",
            "dense_13 (Dense)             (None, 587)               75723     \n",
            "=================================================================\n",
            "Total params: 450,123\n",
            "Trainable params: 450,123\n",
            "Non-trainable params: 0\n",
            "_________________________________________________________________\n"
          ]
        },
        {
          "name": "stderr",
          "output_type": "stream",
          "text": [
            "Train:  67%|██████▋   | 43/64 [00:02<00:01, 20.45it/s, accuracy=0.0156, train_loss=6.37]\n"
          ]
        },
        {
          "name": "stdout",
          "output_type": "stream",
          "text": [
            "\t - Recall@20 epoch 1: 0.000\n",
            "\t - MRR@20    epoch 1: 0.000\n",
            "\n"
          ]
        },
        {
          "name": "stderr",
          "output_type": "stream",
          "text": [
            "Train:  67%|██████▋   | 43/64 [00:00<00:00, 109.26it/s, accuracy=0, train_loss=6.36]\n"
          ]
        },
        {
          "name": "stdout",
          "output_type": "stream",
          "text": [
            "\t - Recall@20 epoch 2: 0.000\n",
            "\t - MRR@20    epoch 2: 0.000\n",
            "\n"
          ]
        },
        {
          "name": "stderr",
          "output_type": "stream",
          "text": [
            "Train:  67%|██████▋   | 43/64 [00:00<00:00, 114.37it/s, accuracy=0, train_loss=6.34]\n"
          ]
        },
        {
          "name": "stdout",
          "output_type": "stream",
          "text": [
            "\t - Recall@20 epoch 3: 0.000\n",
            "\t - MRR@20    epoch 3: 0.000\n",
            "\n"
          ]
        },
        {
          "name": "stderr",
          "output_type": "stream",
          "text": [
            "Train:  67%|██████▋   | 43/64 [00:00<00:00, 110.02it/s, accuracy=0, train_loss=6.29]\n"
          ]
        },
        {
          "name": "stdout",
          "output_type": "stream",
          "text": [
            "\t - Recall@20 epoch 4: 0.000\n",
            "\t - MRR@20    epoch 4: 0.000\n",
            "\n"
          ]
        },
        {
          "name": "stderr",
          "output_type": "stream",
          "text": [
            "Train:  67%|██████▋   | 43/64 [00:00<00:00, 112.95it/s, accuracy=0, train_loss=6.27]\n"
          ]
        },
        {
          "name": "stdout",
          "output_type": "stream",
          "text": [
            "\t - Recall@20 epoch 5: 0.000\n",
            "\t - MRR@20    epoch 5: 0.000\n",
            "\n"
          ]
        },
        {
          "name": "stderr",
          "output_type": "stream",
          "text": [
            "Train:  67%|██████▋   | 43/64 [00:00<00:00, 111.62it/s, accuracy=0, train_loss=6.24]\n"
          ]
        },
        {
          "name": "stdout",
          "output_type": "stream",
          "text": [
            "\t - Recall@20 epoch 6: 0.000\n",
            "\t - MRR@20    epoch 6: 0.000\n",
            "\n"
          ]
        },
        {
          "name": "stderr",
          "output_type": "stream",
          "text": [
            "Train:  67%|██████▋   | 43/64 [00:00<00:00, 113.31it/s, accuracy=0.0156, train_loss=6.22]\n"
          ]
        },
        {
          "name": "stdout",
          "output_type": "stream",
          "text": [
            "\t - Recall@20 epoch 7: 0.000\n",
            "\t - MRR@20    epoch 7: 0.000\n",
            "\n"
          ]
        },
        {
          "name": "stderr",
          "output_type": "stream",
          "text": [
            "Train:  67%|██████▋   | 43/64 [00:00<00:00, 114.34it/s, accuracy=0, train_loss=6.19]\n"
          ]
        },
        {
          "name": "stdout",
          "output_type": "stream",
          "text": [
            "\t - Recall@20 epoch 8: 0.000\n",
            "\t - MRR@20    epoch 8: 0.000\n",
            "\n"
          ]
        },
        {
          "name": "stderr",
          "output_type": "stream",
          "text": [
            "Train:  67%|██████▋   | 43/64 [00:00<00:00, 109.14it/s, accuracy=0, train_loss=6.17]\n"
          ]
        },
        {
          "name": "stdout",
          "output_type": "stream",
          "text": [
            "\t - Recall@20 epoch 9: 0.000\n",
            "\t - MRR@20    epoch 9: 0.000\n",
            "\n"
          ]
        },
        {
          "name": "stderr",
          "output_type": "stream",
          "text": [
            "Train:  67%|██████▋   | 43/64 [00:00<00:00, 113.89it/s, accuracy=0, train_loss=6.14]\n"
          ]
        },
        {
          "name": "stdout",
          "output_type": "stream",
          "text": [
            "\t - Recall@20 epoch 10: 0.000\n",
            "\t - MRR@20    epoch 10: 0.000\n",
            "\n"
          ]
        },
        {
          "name": "stderr",
          "output_type": "stream",
          "text": [
            "Train:  67%|██████▋   | 43/64 [00:00<00:00, 112.45it/s, accuracy=0, train_loss=6.1]\n"
          ]
        },
        {
          "name": "stdout",
          "output_type": "stream",
          "text": [
            "\t - Recall@20 epoch 11: 0.000\n",
            "\t - MRR@20    epoch 11: 0.000\n",
            "\n"
          ]
        },
        {
          "name": "stderr",
          "output_type": "stream",
          "text": [
            "Train:  67%|██████▋   | 43/64 [00:00<00:00, 107.46it/s, accuracy=0.0156, train_loss=6.03]\n"
          ]
        },
        {
          "name": "stdout",
          "output_type": "stream",
          "text": [
            "\t - Recall@20 epoch 12: 0.000\n",
            "\t - MRR@20    epoch 12: 0.000\n",
            "\n"
          ]
        },
        {
          "name": "stderr",
          "output_type": "stream",
          "text": [
            "Train:  67%|██████▋   | 43/64 [00:00<00:00, 112.39it/s, accuracy=0.0469, train_loss=5.95]\n"
          ]
        },
        {
          "name": "stdout",
          "output_type": "stream",
          "text": [
            "\t - Recall@20 epoch 13: 0.000\n",
            "\t - MRR@20    epoch 13: 0.000\n",
            "\n"
          ]
        },
        {
          "name": "stderr",
          "output_type": "stream",
          "text": [
            "Train:  67%|██████▋   | 43/64 [00:00<00:00, 110.81it/s, accuracy=0.0625, train_loss=5.86]\n"
          ]
        },
        {
          "name": "stdout",
          "output_type": "stream",
          "text": [
            "\t - Recall@20 epoch 14: 0.000\n",
            "\t - MRR@20    epoch 14: 0.000\n",
            "\n"
          ]
        },
        {
          "name": "stderr",
          "output_type": "stream",
          "text": [
            "Train:  67%|██████▋   | 43/64 [00:00<00:00, 108.51it/s, accuracy=0.141, train_loss=5.73]\n"
          ]
        },
        {
          "name": "stdout",
          "output_type": "stream",
          "text": [
            "\t - Recall@20 epoch 15: 0.000\n",
            "\t - MRR@20    epoch 15: 0.000\n",
            "\n"
          ]
        },
        {
          "name": "stderr",
          "output_type": "stream",
          "text": [
            "Train:  67%|██████▋   | 43/64 [00:00<00:00, 114.79it/s, accuracy=0.125, train_loss=5.58]\n"
          ]
        },
        {
          "name": "stdout",
          "output_type": "stream",
          "text": [
            "\t - Recall@20 epoch 16: 0.000\n",
            "\t - MRR@20    epoch 16: 0.000\n",
            "\n"
          ]
        },
        {
          "name": "stderr",
          "output_type": "stream",
          "text": [
            "Train:  67%|██████▋   | 43/64 [00:00<00:00, 111.97it/s, accuracy=0.156, train_loss=5.43]\n"
          ]
        },
        {
          "name": "stdout",
          "output_type": "stream",
          "text": [
            "\t - Recall@20 epoch 17: 0.000\n",
            "\t - MRR@20    epoch 17: 0.000\n",
            "\n"
          ]
        },
        {
          "name": "stderr",
          "output_type": "stream",
          "text": [
            "Train:  67%|██████▋   | 43/64 [00:00<00:00, 113.38it/s, accuracy=0.141, train_loss=5.25]\n"
          ]
        },
        {
          "name": "stdout",
          "output_type": "stream",
          "text": [
            "\t - Recall@20 epoch 18: 0.000\n",
            "\t - MRR@20    epoch 18: 0.000\n",
            "\n"
          ]
        },
        {
          "name": "stderr",
          "output_type": "stream",
          "text": [
            "Train:  67%|██████▋   | 43/64 [00:00<00:00, 112.47it/s, accuracy=0.172, train_loss=5.06]\n"
          ]
        },
        {
          "name": "stdout",
          "output_type": "stream",
          "text": [
            "\t - Recall@20 epoch 19: 0.000\n",
            "\t - MRR@20    epoch 19: 0.000\n",
            "\n"
          ]
        },
        {
          "name": "stderr",
          "output_type": "stream",
          "text": [
            "Train:  67%|██████▋   | 43/64 [00:00<00:00, 113.03it/s, accuracy=0.172, train_loss=4.88]\n"
          ]
        },
        {
          "name": "stdout",
          "output_type": "stream",
          "text": [
            "\t - Recall@20 epoch 20: 0.000\n",
            "\t - MRR@20    epoch 20: 0.000\n",
            "\n",
            "\t - Recall@20: 0.000\n",
            "\t - MRR@20: 0.000\n",
            "\n"
          ]
        }
      ],
      "source": [
        "# days도 7로 변경하고 파라미터도 변경했는데 왜..\n",
        "# 이번은 creation model 선언문내 변경\n",
        "def create_model(args):\n",
        "    inputs = Input(batch_shape=(None, 1, args.num_items))\n",
        "    gru = GRU(args.hsz, stateful=False, return_sequences=True, name='GRU_1')(inputs)\n",
        "    gru = GRU(args.hsz, stateful=False, name='GRU_2')(gru)\n",
        "    dropout = Dropout(args.drop_rate)(gru)\n",
        "    predictions = Dense(args.num_items, activation='softmax')(dropout)\n",
        "    model = Model(inputs=inputs, outputs=[predictions])\n",
        "    model.compile(\n",
        "        loss='categorical_crossentropy',\n",
        "        optimizer=Adam(learning_rate=args.lr),\n",
        "        metrics=['accuracy']\n",
        "    )\n",
        "    model.summary()\n",
        "    return model\n",
        "\n",
        "\n",
        "args = Args(\n",
        "    train_data=train_data,\n",
        "    validation_data=valid_data,\n",
        "    test_data=test_data,\n",
        "    batch_size=64,\n",
        "    hsz=128,\n",
        "    drop_rate=0.05,\n",
        "    lr=0.0005,\n",
        "    epochs=20,\n",
        "    k=20\n",
        ")\n",
        "\n",
        "model = create_model(args)\n",
        "train_model(model, args)\n",
        "test_model(model, args, test_data)\n"
      ]
    },
    {
      "cell_type": "code",
      "execution_count": null,
      "id": "a4e53d53",
      "metadata": {
        "id": "a4e53d53"
      },
      "outputs": [],
      "source": []
    }
  ],
  "metadata": {
    "kernelspec": {
      "display_name": "Python 3 (ipykernel)",
      "language": "python",
      "name": "python3"
    },
    "language_info": {
      "codemirror_mode": {
        "name": "ipython",
        "version": 3
      },
      "file_extension": ".py",
      "mimetype": "text/x-python",
      "name": "python",
      "nbconvert_exporter": "python",
      "pygments_lexer": "ipython3",
      "version": "3.9.7"
    },
    "colab": {
      "provenance": [],
      "include_colab_link": true
    }
  },
  "nbformat": 4,
  "nbformat_minor": 5
}