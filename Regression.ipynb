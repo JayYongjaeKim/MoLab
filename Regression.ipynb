{
  "nbformat": 4,
  "nbformat_minor": 0,
  "metadata": {
    "colab": {
      "provenance": [],
      "authorship_tag": "ABX9TyP8Qj6/G581GY9x3mtFQEXq",
      "include_colab_link": true
    },
    "kernelspec": {
      "name": "python3",
      "display_name": "Python 3"
    },
    "language_info": {
      "name": "python"
    }
  },
  "cells": [
    {
      "cell_type": "markdown",
      "metadata": {
        "id": "view-in-github",
        "colab_type": "text"
      },
      "source": [
        "<a href=\"https://colab.research.google.com/github/JayYongjaeKim/MoLab/blob/FirstTon/Regression.ipynb\" target=\"_parent\"><img src=\"https://colab.research.google.com/assets/colab-badge.svg\" alt=\"Open In Colab\"/></a>"
      ]
    },
    {
      "cell_type": "code",
      "execution_count": 4,
      "metadata": {
        "colab": {
          "base_uri": "https://localhost:8080/",
          "height": 53
        },
        "id": "37jrVYS5HMdh",
        "outputId": "6d127ec1-91a5-4e70-e5c7-e55902815b12"
      },
      "outputs": [
        {
          "output_type": "stream",
          "name": "stdout",
          "text": [
            "Drive already mounted at /content/drive; to attempt to forcibly remount, call drive.mount(\"/content/drive\", force_remount=True).\n"
          ]
        },
        {
          "output_type": "execute_result",
          "data": {
            "text/plain": [
              "'/content/drive/MyDrive/Colab Notebooks/airbnb-recruiting-new-user-bookings'"
            ],
            "application/vnd.google.colaboratory.intrinsic+json": {
              "type": "string"
            }
          },
          "metadata": {},
          "execution_count": 4
        }
      ],
      "source": [
        "import warnings\n",
        "warnings.filterwarnings('ignore')\n",
        "\n",
        "from google.colab import drive\n",
        "drive.mount('/content/drive')\n",
        "\n",
        "import os\n",
        "os.chdir('/content/drive/MyDrive/Colab Notebooks/airbnb-recruiting-new-user-bookings')\n",
        "os.getcwd()"
      ]
    },
    {
      "cell_type": "code",
      "source": [
        "import pandas as pd\n",
        "\n",
        "main = pd.read_csv('train.csv.zip')\n",
        "log = pd.read_csv('sessions.csv.zip')\n",
        "\n",
        "import datetime\n",
        "main['date_first_booking'] = pd.to_datetime(main['date_first_booking'])\n",
        "main['date_account_created'] = pd.to_datetime(main['date_account_created'])\n",
        "main['timestamp_first_active'] = pd.to_datetime(main['timestamp_first_active'], format='%Y%m%d%H%M%S')\n",
        "main['timestamp_first_active'] = main['timestamp_first_active'].dt.date\n",
        "\n",
        "main['is_booked'] = main['date_first_booking'].notnull().astype(int)\n",
        "\n",
        "main = main[(main['age'] >= 11) & (main['age'] <= 69)]\n",
        "\n",
        "main = main[(main['gender'] != '-unknown-') & (main['gender'] != 'OTHER')]\n",
        "\n",
        "main['timedelta'] = (main['date_first_booking'] - pd.to_datetime(main['timestamp_first_active'])).dt.days\n",
        "\n",
        "main = main.drop(columns=['date_first_booking'])\n",
        "\n",
        "main['timedelta'] = main['timedelta'].fillna(0)\n",
        "\n",
        "main = main.drop(columns=['first_affiliate_tracked'], axis=0)\n",
        "\n",
        "# 행동\n",
        "log['action'] = log['action'].fillna('unknown')\n",
        "log['action_detail'] = log['action_detail'].fillna('unknown')\n",
        "log['action_type'] = log['action_type'].fillna('unknown')\n",
        "\n",
        "encoded_data = pd.get_dummies(log[['action', 'action_detail', 'action_type']])\n",
        "\n",
        "\n",
        "# 수많은 행동 행데이터를 열컬럼으로 전환하여 모든 데이터를 학습하는 용도로 사용할수 있도록 저장\n",
        "action_pivot = log.pivot_table(index='user_id', columns='action', values='secs_elapsed', aggfunc='count').fillna(0)\n",
        "action_detail_pivot = log.pivot_table(index='user_id', columns='action_detail', values='secs_elapsed', aggfunc='count').fillna(0)\n",
        "action_type_pivot = log.pivot_table(index='user_id', columns='action_type', values='secs_elapsed', aggfunc='count').fillna(0)\n",
        "\n",
        "from functools import reduce\n",
        "pivot_tables = [action_pivot, action_detail_pivot, action_type_pivot]\n",
        "\n",
        "log_pivot = reduce(lambda left, right: pd.merge(left, right, on='user_id', how='outer'), pivot_tables).fillna(0)\n",
        "log_pivot.reset_index(inplace=True)\n",
        "\n",
        "# 우리의 목표는 구매일관련 회귀와 분류로서 당일과 당일이 아닌 구분이중요 ( 이는 EDA 정리본의 0일내 구매자와 그외 구매자 비율에서 확인)\n",
        "fast_group = main[main['timedelta'] <= 0]['id']\n",
        "slow_group = main[main['timedelta'] > 0]['id']\n",
        "\n",
        "# anti_join 이라는 새로운 방식을 사용하여 서로에게 공통의 영향을 미치는 행동을 제외 unique 하게 영향을 미치는 목록 리스트 20개를 선정하는 방식을 사용하여 학습\n",
        "fast_actions = log[log['user_id'].isin(fast_group)]['action_detail'].value_counts().head(20).index\n",
        "slow_actions = log[log['user_id'].isin(slow_group)]['action_detail'].value_counts().head(20).index\n",
        "\n",
        "anti_join_features = list(set(fast_actions) - set(slow_actions)) + list(set(slow_actions) - set(fast_actions))\n",
        "\n",
        "\n",
        "# 행동별 다르게 나타나는 값에 대해 가중치를 부여하는 방식\n",
        "log['median_time'] = log.groupby(['action_detail'])['secs_elapsed'].transform('median')\n",
        "\n",
        "log['weight'] = log['median_time'] / log.groupby('action_detail')['secs_elapsed'].transform('count')\n",
        "log['score'] = log['secs_elapsed'] * log['weight']\n",
        "\n",
        "scores = log.groupby('user_id')['score'].sum().reset_index(name='total_score')\n",
        "\n",
        "# 여기까지가 회귀 및 분류의 공통적인 전처리 과정"
      ],
      "metadata": {
        "id": "ARAzOkwpHNwx"
      },
      "execution_count": 5,
      "outputs": []
    },
    {
      "cell_type": "code",
      "source": [
        "from sklearn.preprocessing import StandardScaler\n",
        "\n",
        "log_pivot2 = log_pivot.drop(columns=['user_id'], errors='ignore')\n",
        "\n",
        "scaler = StandardScaler()\n",
        "log_pivot_scaled = scaler.fit_transform(log_pivot2)\n",
        "\n",
        "from sklearn.decomposition import PCA\n",
        "pca = PCA(n_components=7)\n",
        "pca_features = pca.fit_transform(log_pivot_scaled)\n",
        "\n",
        "explained_variance = pca.explained_variance_ratio_\n",
        "cumulative_explained_variance = explained_variance.cumsum()\n",
        "\n",
        "print(\"Explained Variance Ratio:\", explained_variance)\n",
        "print(\"Cumulative Explained Variance:\", cumulative_explained_variance)\n",
        "\n",
        "for i in range(7):\n",
        "    log_pivot[f'PC{i+1}'] = pca_features[:, i]\n",
        "\n",
        "merged_data = pd.merge(main, log_pivot, left_on='id', right_on='user_id', how='left').fillna(0)\n",
        "merged_data = pd.merge(merged_data, scores, left_on='id', right_on='user_id', how='left').fillna(0)\n",
        "\n",
        "\n",
        "merged_data['date_account_created'] = pd.to_datetime(merged_data['date_account_created'])\n",
        "merged_data['timestamp_first_active'] = pd.to_datetime(merged_data['timestamp_first_active'])\n",
        "merged_data['days_since_creation'] = (merged_data['date_account_created'] - merged_data['date_account_created'].min()).dt.days\n",
        "merged_data['days_since_first_active'] = (merged_data['timestamp_first_active'] - merged_data['timestamp_first_active'].min()).dt.days\n",
        "\n",
        "merged_data = merged_data.drop(columns=['date_account_created', 'timestamp_first_active'], errors='ignore')\n",
        "\n",
        "\n",
        "purchased_data = merged_data[merged_data['is_booked'] == 1].copy()\n",
        "\n",
        "\n",
        "action_detail_to_user_ids = log.groupby('action_detail')['user_id'].apply(set).to_dict()\n"
      ],
      "metadata": {
        "colab": {
          "base_uri": "https://localhost:8080/"
        },
        "id": "RuRi91JvL7OX",
        "outputId": "72659c92-b8fa-499c-d8b5-9d09d8a2e63b"
      },
      "execution_count": 6,
      "outputs": [
        {
          "output_type": "stream",
          "name": "stdout",
          "text": [
            "Explained Variance Ratio: [0.03730404 0.0262885  0.02193066 0.02112756 0.01730621 0.01346274\n",
            " 0.01271974]\n",
            "Cumulative Explained Variance: [0.03730404 0.06359254 0.0855232  0.10665075 0.12395696 0.13741971\n",
            " 0.15013944]\n"
          ]
        }
      ]
    },
    {
      "cell_type": "code",
      "source": [
        "for feature in anti_join_features:\n",
        "    if feature in action_detail_to_user_ids:\n",
        "        feature_user_ids = action_detail_to_user_ids[feature]\n",
        "        purchased_data[f'anti_{feature}'] = purchased_data['id'].apply(lambda x: 1 if x in feature_user_ids else 0)\n",
        "    else:\n",
        "        purchased_data[f'anti_{feature}'] = 0\n",
        "\n",
        "\n",
        "feature_columns = [\n",
        "    'PC1', 'PC2', 'PC3', 'PC4', 'PC5', 'PC6', 'PC7',\n",
        "    'total_score', 'days_since_creation', 'days_since_first_active'\n",
        "] + [f'anti_{feature}' for feature in anti_join_features]\n",
        "\n",
        "X = purchased_data[feature_columns]\n",
        "y = purchased_data['timedelta']"
      ],
      "metadata": {
        "id": "VKmPWTl8KEpa"
      },
      "execution_count": 7,
      "outputs": []
    },
    {
      "cell_type": "code",
      "source": [
        "from sklearn.preprocessing import StandardScaler\n",
        "from sklearn.model_selection import train_test_split\n",
        "from sklearn.linear_model import LinearRegression, Lasso, Ridge, ElasticNet\n",
        "from sklearn.ensemble import RandomForestRegressor, GradientBoostingRegressor, AdaBoostRegressor\n",
        "from sklearn.tree import DecisionTreeRegressor\n",
        "from sklearn.neighbors import KNeighborsRegressor\n",
        "from sklearn.metrics import mean_absolute_error, mean_squared_error\n",
        "import xgboost as xgb\n",
        "import lightgbm as lgb\n",
        "import numpy as np\n",
        "\n",
        "X_train, X_test, y_train, y_test = train_test_split(X, y, test_size=0.3, random_state=42)\n",
        "\n",
        "models = {\n",
        "    'Linear Regression': LinearRegression(),\n",
        "    'Lasso Regression': Lasso(alpha=0.1),\n",
        "    'Ridge Regression': Ridge(alpha=1.0),\n",
        "    'ElasticNet': ElasticNet(alpha=0.1, l1_ratio=0.5),\n",
        "    'Random Forest': RandomForestRegressor(random_state=42),\n",
        "    'Gradient Boosting': GradientBoostingRegressor(random_state=42),\n",
        "    'AdaBoost': AdaBoostRegressor(random_state=42),\n",
        "    'Decision Tree': DecisionTreeRegressor(random_state=42),\n",
        "    'K-Nearest Neighbors': KNeighborsRegressor(n_neighbors=5),\n",
        "    'XGBoost': xgb.XGBRegressor(random_state=42, eval_metric='rmse'),\n",
        "    'LightGBM': lgb.LGBMRegressor(random_state=42),\n",
        "}\n",
        "\n",
        "results = {}\n",
        "for model_name, model in models.items():\n",
        "    print(f\"Training {model_name}...\")\n",
        "    model.fit(X_train, y_train)\n",
        "    y_pred = model.predict(X_test)\n",
        "    mae = mean_absolute_error(y_test, y_pred)\n",
        "    rmse = np.sqrt(mean_squared_error(y_test, y_pred))\n",
        "    results[model_name] = {'MAE': mae, 'RMSE': rmse}\n",
        "\n",
        "for model_name, metrics in results.items():\n",
        "    print(f\"{model_name}:\")\n",
        "    print(f\"  Mean Absolute Error (MAE): {metrics['MAE']:.2f}\")\n",
        "    print(f\"  Root Mean Squared Error (RMSE): {metrics['RMSE']:.2f}\")"
      ],
      "metadata": {
        "colab": {
          "base_uri": "https://localhost:8080/"
        },
        "id": "Nas9VGmLRRdy",
        "outputId": "37513544-440a-426c-900b-58b6567469a7"
      },
      "execution_count": 11,
      "outputs": [
        {
          "output_type": "stream",
          "name": "stdout",
          "text": [
            "Training Linear Regression...\n",
            "Training Lasso Regression...\n",
            "Training Ridge Regression...\n",
            "Training ElasticNet...\n",
            "Training Random Forest...\n",
            "Training Gradient Boosting...\n",
            "Training AdaBoost...\n",
            "Training Decision Tree...\n",
            "Training K-Nearest Neighbors...\n",
            "Training XGBoost...\n",
            "Training LightGBM...\n",
            "[LightGBM] [Info] Auto-choosing col-wise multi-threading, the overhead of testing was 0.003991 seconds.\n",
            "You can set `force_col_wise=true` to remove the overhead.\n",
            "[LightGBM] [Info] Total Bins 2542\n",
            "[LightGBM] [Info] Number of data points in the train set: 38420, number of used features: 10\n",
            "[LightGBM] [Info] Start training from score 52.812285\n",
            "Linear Regression:\n",
            "  Mean Absolute Error (MAE): 67.89\n",
            "  Root Mean Squared Error (RMSE): 92.20\n",
            "Lasso Regression:\n",
            "  Mean Absolute Error (MAE): 67.91\n",
            "  Root Mean Squared Error (RMSE): 92.21\n",
            "Ridge Regression:\n",
            "  Mean Absolute Error (MAE): 67.89\n",
            "  Root Mean Squared Error (RMSE): 92.20\n",
            "ElasticNet:\n",
            "  Mean Absolute Error (MAE): 67.91\n",
            "  Root Mean Squared Error (RMSE): 92.20\n",
            "Random Forest:\n",
            "  Mean Absolute Error (MAE): 67.60\n",
            "  Root Mean Squared Error (RMSE): 94.24\n",
            "Gradient Boosting:\n",
            "  Mean Absolute Error (MAE): 66.37\n",
            "  Root Mean Squared Error (RMSE): 91.70\n",
            "AdaBoost:\n",
            "  Mean Absolute Error (MAE): 137.53\n",
            "  Root Mean Squared Error (RMSE): 143.92\n",
            "Decision Tree:\n",
            "  Mean Absolute Error (MAE): 71.75\n",
            "  Root Mean Squared Error (RMSE): 106.87\n",
            "K-Nearest Neighbors:\n",
            "  Mean Absolute Error (MAE): 70.22\n",
            "  Root Mean Squared Error (RMSE): 101.25\n",
            "XGBoost:\n",
            "  Mean Absolute Error (MAE): 66.66\n",
            "  Root Mean Squared Error (RMSE): 92.78\n",
            "LightGBM:\n",
            "  Mean Absolute Error (MAE): 66.22\n",
            "  Root Mean Squared Error (RMSE): 91.87\n"
          ]
        }
      ]
    },
    {
      "cell_type": "markdown",
      "source": [
        "# 요기 아래로는 여러 테스트 현장으로 참고용으로 사용\n",
        "## 위의 데이터 결과는 평균대비 MAE의 값이 높지만 값의 표준편차가 크기에 평균 +-범위내에 값을 예측한것으로 적당한 결과라 볼수있음 다만\n",
        "## 어차피 \"0일\" 내 결제라는게 뻔한데 기간을 예측하는게 맞지 않아 우리는 \"분류\" 당일내 구매자와 당일내 구매하지 않는 자의 구분을 더 중요시 여거 회귀는 하이퍼파라미터 수정없이 넘어간다\n",
        "## 분류를 통해 우리는 마케팅 및 사업부에서 필요할 당일내 구매자와 구매하지 않을자를 실시간 배치 데이터를 활용하여 학습한다음 구매 예정자에겐 보다 공격적인 마케팅을 진행할것을 제안하는 방향으로 간다\n",
        "\n",
        "\n",
        "> - 스케일링 사용과, 사용하지 않은 버전:\n",
        "> - anti-join 사용버전과, 사용하지 않은 버전\n",
        "\n",
        "### 왜 참고용인가 ? A. 결과에 큰차이가 없기때문"
      ],
      "metadata": {
        "id": "WWyYKldxU-Wd"
      }
    },
    {
      "cell_type": "code",
      "source": [
        "# 스케일링 안한 버전\n",
        "from sklearn.preprocessing import StandardScaler\n",
        "\n",
        "log_pivot2 = log_pivot.drop(columns=['user_id'], errors='ignore')\n",
        "\n",
        "from sklearn.decomposition import PCA\n",
        "pca = PCA(n_components=7)\n",
        "pca_features = pca.fit_transform(log_pivot2)\n",
        "\n",
        "explained_variance = pca.explained_variance_ratio_\n",
        "cumulative_explained_variance = explained_variance.cumsum()\n",
        "\n",
        "print(\"Explained Variance Ratio:\", explained_variance)\n",
        "print(\"Cumulative Explained Variance:\", cumulative_explained_variance)\n",
        "\n",
        "for i in range(7):\n",
        "    log_pivot[f'PC{i+1}'] = pca_features[:, i]\n",
        "\n",
        "merged_data = pd.merge(main, log_pivot, left_on='id', right_on='user_id', how='left').fillna(0)\n",
        "merged_data = pd.merge(merged_data, scores, left_on='id', right_on='user_id', how='left').fillna(0)\n",
        "\n",
        "\n",
        "merged_data['date_account_created'] = pd.to_datetime(merged_data['date_account_created'])\n",
        "merged_data['timestamp_first_active'] = pd.to_datetime(merged_data['timestamp_first_active'])\n",
        "merged_data['days_since_creation'] = (merged_data['date_account_created'] - merged_data['date_account_created'].min()).dt.days\n",
        "merged_data['days_since_first_active'] = (merged_data['timestamp_first_active'] - merged_data['timestamp_first_active'].min()).dt.days\n",
        "\n",
        "merged_data = merged_data.drop(columns=['date_account_created', 'timestamp_first_active'], errors='ignore')\n",
        "\n",
        "\n",
        "purchased_data = merged_data[merged_data['is_booked'] == 1].copy()\n",
        "\n",
        "\n",
        "action_detail_to_user_ids = log.groupby('action_detail')['user_id'].apply(set).to_dict()\n"
      ],
      "metadata": {
        "colab": {
          "base_uri": "https://localhost:8080/"
        },
        "id": "mC_bnubXRwFX",
        "outputId": "e8f3e0d9-03ed-4ccf-e779-9db0ebed2586"
      },
      "execution_count": 12,
      "outputs": [
        {
          "output_type": "stream",
          "name": "stdout",
          "text": [
            "Explained Variance Ratio: [0.55878969 0.12597526 0.0767323  0.07130719 0.03921047 0.02300864\n",
            " 0.01774222]\n",
            "Cumulative Explained Variance: [0.55878969 0.68476494 0.76149725 0.83280444 0.87201491 0.89502355\n",
            " 0.91276577]\n"
          ]
        }
      ]
    },
    {
      "cell_type": "code",
      "source": [
        "for feature in anti_join_features:\n",
        "    if feature in action_detail_to_user_ids:\n",
        "        feature_user_ids = action_detail_to_user_ids[feature]\n",
        "        purchased_data[f'anti_{feature}'] = purchased_data['id'].apply(lambda x: 1 if x in feature_user_ids else 0)\n",
        "    else:\n",
        "        purchased_data[f'anti_{feature}'] = 0\n",
        "\n",
        "\n",
        "feature_columns = [\n",
        "    'PC1', 'PC2', 'PC3', 'PC4', 'PC5', 'PC6', 'PC7',\n",
        "    'total_score', 'days_since_creation', 'days_since_first_active'\n",
        "] + [f'anti_{feature}' for feature in anti_join_features]\n",
        "\n",
        "X2 = purchased_data[feature_columns]\n",
        "y2 = purchased_data['timedelta']"
      ],
      "metadata": {
        "id": "iILZFnLTRIqt"
      },
      "execution_count": 13,
      "outputs": []
    },
    {
      "cell_type": "code",
      "source": [
        "for feature in anti_join_features:\n",
        "    if feature in action_detail_to_user_ids:\n",
        "        feature_user_ids = action_detail_to_user_ids[feature]\n",
        "        purchased_data[f'anti_{feature}'] = purchased_data['id'].apply(lambda x: 1 if x in feature_user_ids else 0)\n",
        "    else:\n",
        "        purchased_data[f'anti_{feature}'] = 0\n",
        "\n",
        "\n",
        "feature_columns = [\n",
        "    'PC1', 'PC2', 'PC3', 'PC4', 'PC5', 'PC6', 'PC7',\n",
        "    'total_score', 'days_since_creation', 'days_since_first_active'\n",
        "]\n",
        "\n",
        "X3 = purchased_data[feature_columns]\n",
        "y3 = purchased_data['timedelta']"
      ],
      "metadata": {
        "id": "51svr_RXSWSd"
      },
      "execution_count": 16,
      "outputs": []
    },
    {
      "cell_type": "code",
      "source": [
        "from sklearn.preprocessing import StandardScaler\n",
        "from sklearn.model_selection import train_test_split\n",
        "from sklearn.linear_model import LinearRegression, Lasso, Ridge, ElasticNet\n",
        "from sklearn.ensemble import RandomForestRegressor, GradientBoostingRegressor, AdaBoostRegressor\n",
        "from sklearn.tree import DecisionTreeRegressor\n",
        "from sklearn.neighbors import KNeighborsRegressor\n",
        "from sklearn.metrics import mean_absolute_error, mean_squared_error\n",
        "import xgboost as xgb\n",
        "import lightgbm as lgb\n",
        "import numpy as np\n",
        "\n",
        "X_train, X_test, y_train, y_test = train_test_split(X3, y3, test_size=0.3, random_state=42)\n",
        "\n",
        "models = {\n",
        "    'Linear Regression': LinearRegression(),\n",
        "    'Lasso Regression': Lasso(alpha=0.1),\n",
        "    'Ridge Regression': Ridge(alpha=1.0),\n",
        "    'ElasticNet': ElasticNet(alpha=0.1, l1_ratio=0.5),\n",
        "    'Random Forest': RandomForestRegressor(random_state=42),\n",
        "    'Gradient Boosting': GradientBoostingRegressor(random_state=42),\n",
        "    'AdaBoost': AdaBoostRegressor(random_state=42),\n",
        "    'Decision Tree': DecisionTreeRegressor(random_state=42),\n",
        "    'K-Nearest Neighbors': KNeighborsRegressor(n_neighbors=5),\n",
        "    'XGBoost': xgb.XGBRegressor(random_state=42, eval_metric='rmse'),\n",
        "    'LightGBM': lgb.LGBMRegressor(random_state=42),\n",
        "}\n",
        "\n",
        "results = {}\n",
        "for model_name, model in models.items():\n",
        "    print(f\"Training {model_name}...\")\n",
        "    model.fit(X_train, y_train)\n",
        "    y_pred = model.predict(X_test)\n",
        "    mae = mean_absolute_error(y_test, y_pred)\n",
        "    rmse = np.sqrt(mean_squared_error(y_test, y_pred))\n",
        "    results[model_name] = {'MAE': mae, 'RMSE': rmse}\n",
        "\n",
        "for model_name, metrics in results.items():\n",
        "    print(f\"{model_name}:\")\n",
        "    print(f\"  Mean Absolute Error (MAE): {metrics['MAE']:.2f}\")\n",
        "    print(f\"  Root Mean Squared Error (RMSE): {metrics['RMSE']:.2f}\")"
      ],
      "metadata": {
        "colab": {
          "base_uri": "https://localhost:8080/"
        },
        "id": "Do8rZF1CSZ-v",
        "outputId": "b6a9d1b6-e8ae-437a-cbd4-282029a79291"
      },
      "execution_count": 17,
      "outputs": [
        {
          "output_type": "stream",
          "name": "stdout",
          "text": [
            "Training Linear Regression...\n",
            "Training Lasso Regression...\n",
            "Training Ridge Regression...\n",
            "Training ElasticNet...\n",
            "Training Random Forest...\n",
            "Training Gradient Boosting...\n",
            "Training AdaBoost...\n",
            "Training Decision Tree...\n",
            "Training K-Nearest Neighbors...\n",
            "Training XGBoost...\n",
            "Training LightGBM...\n",
            "[LightGBM] [Info] Auto-choosing row-wise multi-threading, the overhead of testing was 0.003495 seconds.\n",
            "You can set `force_row_wise=true` to remove the overhead.\n",
            "And if memory is not enough, you can set `force_col_wise=true`.\n",
            "[LightGBM] [Info] Total Bins 2542\n",
            "[LightGBM] [Info] Number of data points in the train set: 38420, number of used features: 10\n",
            "[LightGBM] [Info] Start training from score 52.812285\n",
            "Linear Regression:\n",
            "  Mean Absolute Error (MAE): 68.75\n",
            "  Root Mean Squared Error (RMSE): 92.89\n",
            "Lasso Regression:\n",
            "  Mean Absolute Error (MAE): 68.77\n",
            "  Root Mean Squared Error (RMSE): 92.89\n",
            "Ridge Regression:\n",
            "  Mean Absolute Error (MAE): 68.75\n",
            "  Root Mean Squared Error (RMSE): 92.89\n",
            "ElasticNet:\n",
            "  Mean Absolute Error (MAE): 68.77\n",
            "  Root Mean Squared Error (RMSE): 92.89\n",
            "Random Forest:\n",
            "  Mean Absolute Error (MAE): 68.21\n",
            "  Root Mean Squared Error (RMSE): 94.34\n",
            "Gradient Boosting:\n",
            "  Mean Absolute Error (MAE): 67.05\n",
            "  Root Mean Squared Error (RMSE): 92.04\n",
            "AdaBoost:\n",
            "  Mean Absolute Error (MAE): 138.13\n",
            "  Root Mean Squared Error (RMSE): 144.60\n",
            "Decision Tree:\n",
            "  Mean Absolute Error (MAE): 72.07\n",
            "  Root Mean Squared Error (RMSE): 107.64\n",
            "K-Nearest Neighbors:\n",
            "  Mean Absolute Error (MAE): 70.22\n",
            "  Root Mean Squared Error (RMSE): 101.25\n",
            "XGBoost:\n",
            "  Mean Absolute Error (MAE): 67.52\n",
            "  Root Mean Squared Error (RMSE): 93.42\n",
            "LightGBM:\n",
            "  Mean Absolute Error (MAE): 66.77\n",
            "  Root Mean Squared Error (RMSE): 92.08\n"
          ]
        }
      ]
    },
    {
      "cell_type": "code",
      "source": [
        "from sklearn.preprocessing import StandardScaler\n",
        "from sklearn.model_selection import train_test_split\n",
        "from sklearn.linear_model import LinearRegression, Lasso, Ridge, ElasticNet\n",
        "from sklearn.ensemble import RandomForestRegressor, GradientBoostingRegressor, AdaBoostRegressor\n",
        "from sklearn.tree import DecisionTreeRegressor\n",
        "from sklearn.neighbors import KNeighborsRegressor\n",
        "from sklearn.metrics import mean_absolute_error, mean_squared_error\n",
        "import xgboost as xgb\n",
        "import lightgbm as lgb\n",
        "import numpy as np\n",
        "\n",
        "X_train, X_test, y_train, y_test = train_test_split(X2, y2, test_size=0.3, random_state=42)\n",
        "\n",
        "models = {\n",
        "    'Linear Regression': LinearRegression(),\n",
        "    'Lasso Regression': Lasso(alpha=0.1),\n",
        "    'Ridge Regression': Ridge(alpha=1.0),\n",
        "    'ElasticNet': ElasticNet(alpha=0.1, l1_ratio=0.5),\n",
        "    'Random Forest': RandomForestRegressor(random_state=42),\n",
        "    'Gradient Boosting': GradientBoostingRegressor(random_state=42),\n",
        "    'AdaBoost': AdaBoostRegressor(random_state=42),\n",
        "    'Decision Tree': DecisionTreeRegressor(random_state=42),\n",
        "    'K-Nearest Neighbors': KNeighborsRegressor(n_neighbors=5),\n",
        "    'XGBoost': xgb.XGBRegressor(random_state=42, eval_metric='rmse'),\n",
        "    'LightGBM': lgb.LGBMRegressor(random_state=42),\n",
        "}\n",
        "\n",
        "results = {}\n",
        "for model_name, model in models.items():\n",
        "    print(f\"Training {model_name}...\")\n",
        "    model.fit(X_train, y_train)\n",
        "    y_pred = model.predict(X_test)\n",
        "    mae = mean_absolute_error(y_test, y_pred)\n",
        "    rmse = np.sqrt(mean_squared_error(y_test, y_pred))\n",
        "    results[model_name] = {'MAE': mae, 'RMSE': rmse}\n",
        "\n",
        "for model_name, metrics in results.items():\n",
        "    print(f\"{model_name}:\")\n",
        "    print(f\"  Mean Absolute Error (MAE): {metrics['MAE']:.2f}\")\n",
        "    print(f\"  Root Mean Squared Error (RMSE): {metrics['RMSE']:.2f}\")"
      ],
      "metadata": {
        "colab": {
          "base_uri": "https://localhost:8080/"
        },
        "id": "w5aTWam9cxSq",
        "outputId": "37211088-1071-4c27-fe87-e54e2d892dd4"
      },
      "execution_count": 15,
      "outputs": [
        {
          "output_type": "stream",
          "name": "stdout",
          "text": [
            "Training Linear Regression...\n",
            "Training Lasso Regression...\n",
            "Training Ridge Regression...\n",
            "Training ElasticNet...\n",
            "Training Random Forest...\n",
            "Training Gradient Boosting...\n",
            "Training AdaBoost...\n",
            "Training Decision Tree...\n",
            "Training K-Nearest Neighbors...\n",
            "Training XGBoost...\n",
            "Training LightGBM...\n",
            "[LightGBM] [Info] Auto-choosing row-wise multi-threading, the overhead of testing was 0.005727 seconds.\n",
            "You can set `force_row_wise=true` to remove the overhead.\n",
            "And if memory is not enough, you can set `force_col_wise=true`.\n",
            "[LightGBM] [Info] Total Bins 2546\n",
            "[LightGBM] [Info] Number of data points in the train set: 38420, number of used features: 12\n",
            "[LightGBM] [Info] Start training from score 52.812285\n",
            "Linear Regression:\n",
            "  Mean Absolute Error (MAE): 68.54\n",
            "  Root Mean Squared Error (RMSE): 92.82\n",
            "Lasso Regression:\n",
            "  Mean Absolute Error (MAE): 68.58\n",
            "  Root Mean Squared Error (RMSE): 92.82\n",
            "Ridge Regression:\n",
            "  Mean Absolute Error (MAE): 68.54\n",
            "  Root Mean Squared Error (RMSE): 92.82\n",
            "ElasticNet:\n",
            "  Mean Absolute Error (MAE): 68.66\n",
            "  Root Mean Squared Error (RMSE): 92.84\n",
            "Random Forest:\n",
            "  Mean Absolute Error (MAE): 68.14\n",
            "  Root Mean Squared Error (RMSE): 94.23\n",
            "Gradient Boosting:\n",
            "  Mean Absolute Error (MAE): 67.03\n",
            "  Root Mean Squared Error (RMSE): 92.03\n",
            "AdaBoost:\n",
            "  Mean Absolute Error (MAE): 138.13\n",
            "  Root Mean Squared Error (RMSE): 144.60\n",
            "Decision Tree:\n",
            "  Mean Absolute Error (MAE): 72.03\n",
            "  Root Mean Squared Error (RMSE): 107.66\n",
            "K-Nearest Neighbors:\n",
            "  Mean Absolute Error (MAE): 70.22\n",
            "  Root Mean Squared Error (RMSE): 101.26\n",
            "XGBoost:\n",
            "  Mean Absolute Error (MAE): 67.42\n",
            "  Root Mean Squared Error (RMSE): 93.39\n",
            "LightGBM:\n",
            "  Mean Absolute Error (MAE): 66.80\n",
            "  Root Mean Squared Error (RMSE): 92.09\n"
          ]
        }
      ]
    },
    {
      "cell_type": "code",
      "source": [
        "mean = merged_data['timedelta'].mean()\n",
        "std = merged_data['timedelta'].std()\n",
        "\n",
        "{mean, std}"
      ],
      "metadata": {
        "colab": {
          "base_uri": "https://localhost:8080/"
        },
        "id": "5Zl3vSqYdlg8",
        "outputId": "21988f2c-a3d7-40ca-e3ff-4da5e615783c"
      },
      "execution_count": 9,
      "outputs": [
        {
          "output_type": "execute_result",
          "data": {
            "text/plain": [
              "{27.499311065710078, 73.17702004985091}"
            ]
          },
          "metadata": {},
          "execution_count": 9
        }
      ]
    },
    {
      "cell_type": "code",
      "source": [
        "non_zero_mae = mean_absolute_error(y_test[y_test != 0], y_pred[y_test != 0])\n",
        "print(non_zero_mae)"
      ],
      "metadata": {
        "colab": {
          "base_uri": "https://localhost:8080/"
        },
        "id": "RDGarCXuom0b",
        "outputId": "58c21664-67a2-425e-fc5d-062b373c6f5d"
      },
      "execution_count": 18,
      "outputs": [
        {
          "output_type": "stream",
          "name": "stdout",
          "text": [
            "72.60739476590662\n"
          ]
        }
      ]
    },
    {
      "cell_type": "code",
      "source": [
        "import matplotlib.pyplot as plt\n",
        "\n",
        "# Feature 중요도\n",
        "feature_importances = regressor.feature_importances_\n",
        "features = X.columns\n",
        "\n",
        "# 시각화\n",
        "plt.figure(figsize=(10, 6))\n",
        "plt.bar(features, feature_importances)\n",
        "plt.title(\"Feature Importance (Time Prediction)\")\n",
        "plt.xlabel(\"Features\")\n",
        "plt.ylabel(\"Importance\")\n",
        "plt.xticks(rotation=45)\n",
        "plt.show()\n"
      ],
      "metadata": {
        "colab": {
          "base_uri": "https://localhost:8080/",
          "height": 579
        },
        "id": "FmXkCrD7YMJZ",
        "outputId": "043e0cdc-7cb6-4474-ea1d-4fff8e52ca21"
      },
      "execution_count": 12,
      "outputs": [
        {
          "output_type": "display_data",
          "data": {
            "text/plain": [
              "<Figure size 1000x600 with 1 Axes>"
            ],
            "image/png": "[encoded data removed]"
          },
          "metadata": {}
        }
      ]
    },
    {
      "cell_type": "code",
      "source": [
        "# 주요 행동 도출\n",
        "important_actions = log[log['user_id'].isin(purchased_data['id'])]['action_detail'].value_counts().head(10)\n",
        "print(\"Top Actions for Purchasers:\\n\", important_actions)\n"
      ],
      "metadata": {
        "colab": {
          "base_uri": "https://localhost:8080/"
        },
        "id": "drG5bQIuYcXE",
        "outputId": "05efa036-8502-422b-c153-7d8c351746d5"
      },
      "execution_count": 14,
      "outputs": [
        {
          "output_type": "stream",
          "name": "stdout",
          "text": [
            "Top Actions for Purchasers:\n",
            " action_detail\n",
            "view_search_results            250006\n",
            "-unknown-                      180771\n",
            "unknown                        178839\n",
            "p3                             165368\n",
            "wishlist_content_update        132848\n",
            "change_trip_characteristics     97555\n",
            "similar_listings                92714\n",
            "user_profile                    66898\n",
            "update_listing                  32222\n",
            "message_thread                  31799\n",
            "Name: count, dtype: int64\n"
          ]
        }
      ]
    },
    {
      "cell_type": "code",
      "source": [],
      "metadata": {
        "id": "CQenP1QRY713"
      },
      "execution_count": null,
      "outputs": []
    }
  ]
}