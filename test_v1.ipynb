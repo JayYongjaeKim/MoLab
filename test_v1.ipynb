{
  "metadata": {
    "kernelspec": {
      "language": "python",
      "display_name": "Python 3",
      "name": "python3"
    },
    "language_info": {
      "name": "python",
      "version": "3.10.14",
      "mimetype": "text/x-python",
      "codemirror_mode": {
        "name": "ipython",
        "version": 3
      },
      "pygments_lexer": "ipython3",
      "nbconvert_exporter": "python",
      "file_extension": ".py"
    },
    "kaggle": {
      "accelerator": "none",
      "dataSources": [
        {
          "sourceId": 88657,
          "databundleVersionId": 10158206,
          "sourceType": "competition"
        }
      ],
      "dockerImageVersionId": 30786,
      "isInternetEnabled": true,
      "language": "python",
      "sourceType": "notebook",
      "isGpuEnabled": false
    },
    "colab": {
      "name": "Fork of test_v1",
      "provenance": [],
      "include_colab_link": true
    }
  },
  "nbformat_minor": 0,
  "nbformat": 4,
  "cells": [
    {
      "cell_type": "markdown",
      "metadata": {
        "id": "view-in-github",
        "colab_type": "text"
      },
      "source": [
        "<a href=\"https://colab.research.google.com/github/JayYongjaeKim/MoLab/blob/main/test_v1.ipynb\" target=\"_parent\"><img src=\"https://colab.research.google.com/assets/colab-badge.svg\" alt=\"Open In Colab\"/></a>"
      ]
    },
    {
      "source": [
        "# IMPORTANT: SOME KAGGLE DATA SOURCES ARE PRIVATE\n",
        "# RUN THIS CELL IN ORDER TO IMPORT YOUR KAGGLE DATA SOURCES.\n",
        "import kagglehub\n",
        "kagglehub.login()\n"
      ],
      "metadata": {
        "id": "WA4OGFqffMGF"
      },
      "cell_type": "code",
      "outputs": [],
      "execution_count": null
    },
    {
      "source": [
        "# IMPORTANT: RUN THIS CELL IN ORDER TO IMPORT YOUR KAGGLE DATA SOURCES,\n",
        "# THEN FEEL FREE TO DELETE THIS CELL.\n",
        "# NOTE: THIS NOTEBOOK ENVIRONMENT DIFFERS FROM KAGGLE'S PYTHON\n",
        "# ENVIRONMENT SO THERE MAY BE MISSING LIBRARIES USED BY YOUR\n",
        "# NOTEBOOK.\n",
        "\n",
        "aiffel_ds_3_house_prices_path = kagglehub.competition_download('aiffel-ds-3-house-prices')\n",
        "\n",
        "print('Data source import complete.')\n"
      ],
      "metadata": {
        "id": "prbNeF3ZfMGF"
      },
      "cell_type": "code",
      "outputs": [],
      "execution_count": null
    },
    {
      "cell_type": "code",
      "source": [
        "# This Python 3 environment comes with many helpful analytics libraries installed\n",
        "# It is defined by the kaggle/python Docker image: https://github.com/kaggle/docker-python\n",
        "# For example, here's several helpful packages to load\n",
        "\n",
        "import numpy as np # linear algebra\n",
        "import pandas as pd # data processing, CSV file I/O (e.g. pd.read_csv)\n",
        "\n",
        "# Input data files are available in the read-only \"../input/\" directory\n",
        "# For example, running this (by clicking run or pressing Shift+Enter) will list all files under the input directory\n",
        "\n",
        "import os\n",
        "for dirname, _, filenames in os.walk('/kaggle/input'):\n",
        "    for filename in filenames:\n",
        "        print(os.path.join(dirname, filename))\n",
        "\n",
        "# You can write up to 20GB to the current directory (/kaggle/working/) that gets preserved as output when you create a version using \"Save & Run All\"\n",
        "# You can also write temporary files to /kaggle/temp/, but they won't be saved outside of the current session"
      ],
      "metadata": {
        "_uuid": "8f2839f25d086af736a60e9eeb907d3b93b6e0e5",
        "_cell_guid": "b1076dfc-b9ad-4769-8c92-a6c4dae69d19",
        "execution": {
          "iopub.status.busy": "2024-11-15T06:05:26.988643Z",
          "iopub.execute_input": "2024-11-15T06:05:26.989219Z",
          "iopub.status.idle": "2024-11-15T06:05:27.001899Z",
          "shell.execute_reply.started": "2024-11-15T06:05:26.989161Z",
          "shell.execute_reply": "2024-11-15T06:05:27.0001Z"
        },
        "trusted": true,
        "id": "7axCj3odfMGG"
      },
      "execution_count": null,
      "outputs": []
    },
    {
      "cell_type": "markdown",
      "source": [
        "# 1. 데이터 이해 및 탐색\n"
      ],
      "metadata": {
        "id": "uo0QcBbCfMGG"
      }
    },
    {
      "cell_type": "markdown",
      "source": [
        "## 1-1. 데이터 import 및 기본 데이터 확인"
      ],
      "metadata": {
        "id": "79tAyMA1fMGH"
      }
    },
    {
      "cell_type": "code",
      "source": [
        "train_path = '/kaggle/input/aiffel-ds-3-house-prices/train.csv'\n",
        "test_path = '/kaggle/input/aiffel-ds-3-house-prices/test.csv'\n",
        "\n",
        "import pandas as pd\n",
        "\n",
        "train_df = pd.read_csv(train_path)\n",
        "test_df = pd.read_csv(test_path)\n",
        "\n",
        "#원본 확인 용 보존\n",
        "train = train_df.copy()\n",
        "test = test_df.copy()"
      ],
      "metadata": {
        "execution": {
          "iopub.status.busy": "2024-11-15T06:05:27.0048Z",
          "iopub.execute_input": "2024-11-15T06:05:27.006312Z",
          "iopub.status.idle": "2024-11-15T06:05:27.052248Z",
          "shell.execute_reply.started": "2024-11-15T06:05:27.006248Z",
          "shell.execute_reply": "2024-11-15T06:05:27.051023Z"
        },
        "trusted": true,
        "id": "mRxZ39jEfMGH"
      },
      "execution_count": null,
      "outputs": []
    },
    {
      "cell_type": "code",
      "source": [
        "train_df.head(1)\n",
        "test_df.head(1)"
      ],
      "metadata": {
        "execution": {
          "iopub.status.busy": "2024-11-15T06:05:27.053855Z",
          "iopub.execute_input": "2024-11-15T06:05:27.054376Z",
          "iopub.status.idle": "2024-11-15T06:05:27.079452Z",
          "shell.execute_reply.started": "2024-11-15T06:05:27.054318Z",
          "shell.execute_reply": "2024-11-15T06:05:27.077977Z"
        },
        "trusted": true,
        "id": "FGNJsTfUfMGH"
      },
      "execution_count": null,
      "outputs": []
    },
    {
      "cell_type": "markdown",
      "source": [],
      "metadata": {
        "id": "Cv0bzcBafMGH"
      }
    },
    {
      "cell_type": "code",
      "source": [
        "train_df.shape"
      ],
      "metadata": {
        "execution": {
          "iopub.status.busy": "2024-11-15T06:05:27.081578Z",
          "iopub.execute_input": "2024-11-15T06:05:27.082093Z",
          "iopub.status.idle": "2024-11-15T06:05:27.093657Z",
          "shell.execute_reply.started": "2024-11-15T06:05:27.082034Z",
          "shell.execute_reply": "2024-11-15T06:05:27.092244Z"
        },
        "trusted": true,
        "id": "uhpyCfj7fMGH"
      },
      "execution_count": null,
      "outputs": []
    },
    {
      "cell_type": "code",
      "source": [
        "test_df.shape"
      ],
      "metadata": {
        "execution": {
          "iopub.status.busy": "2024-11-15T06:05:27.097882Z",
          "iopub.execute_input": "2024-11-15T06:05:27.09843Z",
          "iopub.status.idle": "2024-11-15T06:05:27.110103Z",
          "shell.execute_reply.started": "2024-11-15T06:05:27.098385Z",
          "shell.execute_reply": "2024-11-15T06:05:27.108816Z"
        },
        "trusted": true,
        "id": "ndbVO5HZfMGI"
      },
      "execution_count": null,
      "outputs": []
    },
    {
      "cell_type": "code",
      "source": [
        "#merge를 위한 전처리\n",
        "\n",
        "train_df['is_train'] = 1\n",
        "test_df['is_train'] = 0\n",
        "\n",
        "test_df['SalePrice'] = 0"
      ],
      "metadata": {
        "execution": {
          "iopub.status.busy": "2024-11-15T06:05:27.1115Z",
          "iopub.execute_input": "2024-11-15T06:05:27.111899Z",
          "iopub.status.idle": "2024-11-15T06:05:27.123088Z",
          "shell.execute_reply.started": "2024-11-15T06:05:27.111857Z",
          "shell.execute_reply": "2024-11-15T06:05:27.121744Z"
        },
        "trusted": true,
        "id": "b6_U1_tQfMGI"
      },
      "execution_count": null,
      "outputs": []
    },
    {
      "cell_type": "code",
      "source": [
        "#merge를 통해 test데이터 학습\n",
        "\n",
        "merged_df = pd.concat([train_df, test_df], axis=0)"
      ],
      "metadata": {
        "execution": {
          "iopub.status.busy": "2024-11-15T06:05:27.125333Z",
          "iopub.execute_input": "2024-11-15T06:05:27.125831Z",
          "iopub.status.idle": "2024-11-15T06:05:27.145847Z",
          "shell.execute_reply.started": "2024-11-15T06:05:27.125774Z",
          "shell.execute_reply": "2024-11-15T06:05:27.144614Z"
        },
        "trusted": true,
        "id": "apQvIpIzfMGI"
      },
      "execution_count": null,
      "outputs": []
    },
    {
      "cell_type": "code",
      "source": [
        "#PCA or 상위상관관계만 학습 고려\n",
        "\n",
        "merged_df.info()"
      ],
      "metadata": {
        "execution": {
          "iopub.status.busy": "2024-11-15T06:05:27.149821Z",
          "iopub.execute_input": "2024-11-15T06:05:27.150691Z",
          "iopub.status.idle": "2024-11-15T06:05:27.182564Z",
          "shell.execute_reply.started": "2024-11-15T06:05:27.150644Z",
          "shell.execute_reply": "2024-11-15T06:05:27.181106Z"
        },
        "trusted": true,
        "id": "NC0ZM07vfMGI"
      },
      "execution_count": null,
      "outputs": []
    },
    {
      "cell_type": "code",
      "source": [
        "#75% 월등히 넘어가는 컬럼들 확인 > 이상치 상기\n",
        "\n",
        "merged_df.describe()"
      ],
      "metadata": {
        "execution": {
          "iopub.status.busy": "2024-11-15T06:05:27.184237Z",
          "iopub.execute_input": "2024-11-15T06:05:27.184721Z",
          "iopub.status.idle": "2024-11-15T06:05:27.301297Z",
          "shell.execute_reply.started": "2024-11-15T06:05:27.184676Z",
          "shell.execute_reply": "2024-11-15T06:05:27.298636Z"
        },
        "trusted": true,
        "id": "fzOBzfCzfMGI"
      },
      "execution_count": null,
      "outputs": []
    },
    {
      "cell_type": "code",
      "source": [
        "merged_df.isna().sum().sort_values(ascending=False)"
      ],
      "metadata": {
        "execution": {
          "iopub.status.busy": "2024-11-15T06:05:27.302828Z",
          "iopub.execute_input": "2024-11-15T06:05:27.303328Z",
          "iopub.status.idle": "2024-11-15T06:05:27.332397Z",
          "shell.execute_reply.started": "2024-11-15T06:05:27.303269Z",
          "shell.execute_reply": "2024-11-15T06:05:27.330772Z"
        },
        "trusted": true,
        "id": "9IUt6gSNfMGI"
      },
      "execution_count": null,
      "outputs": []
    },
    {
      "cell_type": "markdown",
      "source": [
        "## 요약\n",
        "> - 주택관련 내부 모든 데이터들에 대해 수치형과 범주형으로 나타냄\n",
        "> - 변수가 많아 상관관계 및 PCA를 통한 학습률 상승 고민 필요\n",
        "> - 이상치가 극히 높은 데이터들이 존재해 처리방안 고민 필요\n",
        "> - null 값에 관련된 데이터 고민 필요\n",
        "> - 수치형과 범주형을 어떻게 학습시킬지 스케일링 고민 필요"
      ],
      "metadata": {
        "id": "YxJvybskfMGI"
      }
    },
    {
      "cell_type": "markdown",
      "source": [
        "# 2. 데이터 전처리(EDA)"
      ],
      "metadata": {
        "id": "ihKjASsZfMGI"
      }
    },
    {
      "cell_type": "code",
      "source": [
        "# 상위 널값 제거 필요\n",
        "\n",
        "merged_df.isna().sum().sort_values(ascending=False)"
      ],
      "metadata": {
        "execution": {
          "iopub.status.busy": "2024-11-15T06:05:27.333922Z",
          "iopub.execute_input": "2024-11-15T06:05:27.334417Z",
          "iopub.status.idle": "2024-11-15T06:05:27.36196Z",
          "shell.execute_reply.started": "2024-11-15T06:05:27.33436Z",
          "shell.execute_reply": "2024-11-15T06:05:27.360685Z"
        },
        "trusted": true,
        "id": "x9lC8-PGfMGI"
      },
      "execution_count": null,
      "outputs": []
    },
    {
      "cell_type": "code",
      "source": [
        "# 널 비중 확인\n",
        "\n",
        "null_col = merged_df.columns[merged_df.isna().sum() > 0]\n",
        "\n",
        "null_ratio = {}\n",
        "\n",
        "for col in null_col:\n",
        "    ratio = round((merged_df[col].isna().sum() / len(merged_df)) * 100, 2)\n",
        "    null_ratio[col] = ratio\n",
        "\n",
        "null_ratio"
      ],
      "metadata": {
        "execution": {
          "iopub.status.busy": "2024-11-15T06:05:27.363951Z",
          "iopub.execute_input": "2024-11-15T06:05:27.364826Z",
          "iopub.status.idle": "2024-11-15T06:05:27.402647Z",
          "shell.execute_reply.started": "2024-11-15T06:05:27.364763Z",
          "shell.execute_reply": "2024-11-15T06:05:27.400877Z"
        },
        "trusted": true,
        "id": "JFM8Zx7vfMGI"
      },
      "execution_count": null,
      "outputs": []
    },
    {
      "cell_type": "code",
      "source": [
        "# FireplaceQu 기준 컬럼 모두 삭제 (null over 47%)\n",
        "\n",
        "null_over= [key for key, value in null_ratio.items() if value > 46]\n",
        "\n",
        "merged_df = merged_df.drop(null_over, axis=1)\n",
        "\n",
        "merged_df.columns"
      ],
      "metadata": {
        "execution": {
          "iopub.status.busy": "2024-11-15T06:05:27.404595Z",
          "iopub.execute_input": "2024-11-15T06:05:27.405151Z",
          "iopub.status.idle": "2024-11-15T06:05:27.421105Z",
          "shell.execute_reply.started": "2024-11-15T06:05:27.405077Z",
          "shell.execute_reply": "2024-11-15T06:05:27.419627Z"
        },
        "trusted": true,
        "id": "bI7lleDKfMGI"
      },
      "execution_count": null,
      "outputs": []
    },
    {
      "cell_type": "code",
      "source": [
        "# 문자형 null 확인\n",
        "\n",
        "null_col_test = merged_df.columns[merged_df.isna().sum() > 0]\n",
        "merged_df[null_col_test].dtypes"
      ],
      "metadata": {
        "execution": {
          "iopub.status.busy": "2024-11-15T06:05:27.427887Z",
          "iopub.execute_input": "2024-11-15T06:05:27.428433Z",
          "iopub.status.idle": "2024-11-15T06:05:27.4536Z",
          "shell.execute_reply.started": "2024-11-15T06:05:27.428385Z",
          "shell.execute_reply": "2024-11-15T06:05:27.452243Z"
        },
        "trusted": true,
        "id": "ckiy5oynfMGJ"
      },
      "execution_count": null,
      "outputs": []
    },
    {
      "cell_type": "code",
      "source": [
        "# 비중 확인  *이후 확인시 LotFrontage 상관관계 낮다면 drop 고려\n",
        "\n",
        "filtered_null_ratio = {key: value for key, value in null_ratio.items() if key in null_col_test}\n",
        "\n",
        "filtered_null_ratio"
      ],
      "metadata": {
        "execution": {
          "iopub.status.busy": "2024-11-15T06:05:27.455163Z",
          "iopub.execute_input": "2024-11-15T06:05:27.455632Z",
          "iopub.status.idle": "2024-11-15T06:05:27.469614Z",
          "shell.execute_reply.started": "2024-11-15T06:05:27.455588Z",
          "shell.execute_reply": "2024-11-15T06:05:27.467451Z"
        },
        "trusted": true,
        "id": "su1HZm1SfMGJ"
      },
      "execution_count": null,
      "outputs": []
    },
    {
      "cell_type": "code",
      "source": [
        "# 결측치 비율이 굉장이 낮음 (신규 방법 적용 이후 재학습)\n",
        "\n",
        "# null_columns = [key for key, values in filtered_null_ratio.items()]\n",
        "# merged_df.dropna(null_columns, axis=0) >> test셋 고려 불가 방안(or is_train==1만 삭제)\n",
        "\n",
        "# numeric_cols = merged_df.select_dtypes(include=['float64', 'int64']).columns\n",
        "# for col in null_num_columns:\n",
        "#     merged_df[col].fillna(mergeed_df[col].mean(), inplace=True)\n",
        "\n",
        "# 신규 방법\n",
        "from sklearn.impute import SimpleImputer\n",
        "\n",
        "numeric_cols = merged_df.select_dtypes(include=['float64', 'int64']).columns\n",
        "object_cols = merged_df.select_dtypes(include=['object']).columns\n",
        "\n",
        "numeric_imputer = SimpleImputer(strategy='median')\n",
        "merged_df[numeric_cols] = numeric_imputer.fit_transform(merged_df[numeric_cols])\n",
        "\n",
        "object_imputer = SimpleImputer(strategy='most_frequent')\n",
        "merged_df[object_cols] = object_imputer.fit_transform(merged_df[object_cols])\n",
        "\n",
        "merged_df.isna().sum().sort_values(ascending=False)"
      ],
      "metadata": {
        "execution": {
          "iopub.status.busy": "2024-11-15T06:05:27.472045Z",
          "iopub.execute_input": "2024-11-15T06:05:27.472512Z",
          "iopub.status.idle": "2024-11-15T06:05:27.552668Z",
          "shell.execute_reply.started": "2024-11-15T06:05:27.472468Z",
          "shell.execute_reply": "2024-11-15T06:05:27.551465Z"
        },
        "trusted": true,
        "id": "1HOwIwPGfMGJ"
      },
      "execution_count": null,
      "outputs": []
    },
    {
      "cell_type": "code",
      "source": [
        "# 이상치 확인  > 그래프로 확인하기 어려워 신규 방안 적용(이후 재학습)\n",
        "\n",
        "numeric_col_test = merged_df.select_dtypes(include = ['float64', 'int'])\n",
        "\n",
        "outlier_col = []\n",
        "outlier_ratio = {}\n",
        "\n",
        "for col in numeric_col_test:\n",
        "    Q1 = merged_df[col].quantile(0.25)\n",
        "    Q3 = merged_df[col].quantile(0.75)\n",
        "    IQR = Q3 - Q1\n",
        "\n",
        "    outlier = merged_df[(merged_df[col] < (Q1 -  1.5 * IQR)) | (merged_df[col] > (Q3 + 1.5 * IQR))]\n",
        "\n",
        "    if not outlier.empty:\n",
        "        outlier_col.append(col)\n",
        "\n",
        "    outlier_ratio[col] = len(outlier) / len(merged_df)\n",
        "\n",
        "\n",
        "print(outlier_col, \"\\n\", outlier_ratio)\n"
      ],
      "metadata": {
        "execution": {
          "iopub.status.busy": "2024-11-15T06:05:27.554149Z",
          "iopub.execute_input": "2024-11-15T06:05:27.554552Z",
          "iopub.status.idle": "2024-11-15T06:05:27.729576Z",
          "shell.execute_reply.started": "2024-11-15T06:05:27.55451Z",
          "shell.execute_reply": "2024-11-15T06:05:27.728322Z"
        },
        "trusted": true,
        "id": "FmAjMrbLfMGJ"
      },
      "execution_count": null,
      "outputs": []
    },
    {
      "cell_type": "code",
      "source": [
        "out = pd.DataFrame(list(outlier_ratio.items()), columns=['Column', 'OutlierRatio'])\n",
        "out.sort_values('OutlierRatio', ascending=False)"
      ],
      "metadata": {
        "execution": {
          "iopub.status.busy": "2024-11-15T06:05:27.73122Z",
          "iopub.execute_input": "2024-11-15T06:05:27.731625Z",
          "iopub.status.idle": "2024-11-15T06:05:27.752827Z",
          "shell.execute_reply.started": "2024-11-15T06:05:27.731584Z",
          "shell.execute_reply": "2024-11-15T06:05:27.751623Z"
        },
        "trusted": true,
        "id": "DBEJOXpkfMGJ"
      },
      "execution_count": null,
      "outputs": []
    },
    {
      "cell_type": "code",
      "source": [
        "# 문자형 변수 인코딩\n",
        "\n",
        "merged_df = pd.get_dummies(merged_df, columns=merged_df.select_dtypes(include=['object']).columns)\n",
        "\n",
        "merged_df.head()"
      ],
      "metadata": {
        "execution": {
          "iopub.status.busy": "2024-11-15T06:05:27.756923Z",
          "iopub.execute_input": "2024-11-15T06:05:27.757367Z",
          "iopub.status.idle": "2024-11-15T06:05:27.836807Z",
          "shell.execute_reply.started": "2024-11-15T06:05:27.757322Z",
          "shell.execute_reply": "2024-11-15T06:05:27.835445Z"
        },
        "trusted": true,
        "id": "KiYPuLaZfMGJ"
      },
      "execution_count": null,
      "outputs": []
    },
    {
      "cell_type": "code",
      "source": [
        "# 이상치를 제거하는 것이 맞는가?\n",
        "# 모델평가를 지금 해야하는 것일까?\n",
        "\n",
        "# 이상치 제거 전 모델 평가\n",
        "\n",
        "from sklearn.model_selection import train_test_split\n",
        "from sklearn.linear_model import LinearRegression\n",
        "from sklearn.metrics import mean_absolute_error, mean_squared_error, r2_score\n",
        "\n",
        "train_set = merged_df[merged_df['is_train'] == 1]\n",
        "test_set = merged_df[merged_df['is_train'] == 0]\n",
        "\n",
        "x = train_set.drop(columns=['SalePrice', 'is_train'])\n",
        "y = train_set['SalePrice']\n",
        "\n",
        "\n",
        "x_train, x_test, y_train, y_test = train_test_split(x, y, test_size=0.3, random_state=123)\n",
        "model = LinearRegression()\n",
        "model.fit(x_train, y_train)\n",
        "y_pred = model.predict(x_test)\n",
        "\n",
        "\n",
        "# 평가지표 코드 루틴화\n",
        "def r_e(a, b):\n",
        "    mae = mean_absolute_error(a, b)\n",
        "    mse = mean_squared_error(a, b)\n",
        "    rmse = np.sqrt(mse)\n",
        "    r2 = r2_score(a, b)\n",
        "\n",
        "    print(f\"MAE: {mae}\")\n",
        "    print(f\"MSE: {mse}\")\n",
        "    print(f\"RMSE: {rmse}\")\n",
        "    print(f\"R^2: {r2}\")\n",
        "\n",
        "\n",
        "\n",
        "print(\"이상치 제거 전\")\n",
        "r_e(y_test, y_pred)\n",
        "\n",
        "\n",
        "\n",
        "#이상치 제거 후 모델 학습 및 평가\n",
        "for col in outlier_col:\n",
        "    Q1 = train_set[col].quantile(0.25)\n",
        "    Q3 = train_set[col].quantile(0.75)\n",
        "    IQR = Q3 - Q1\n",
        "    outlier_condition = (train_set[col] < (Q1 - 1.5 * IQR)) | (train_set[col] > (Q3 + 1.5 * IQR))\n",
        "    train_set = train_set[~outlier_condition]\n",
        "\n",
        "merged_df2 = pd.concat([train_set, test_set], axis=0)\n",
        "\n",
        "x = train_set.drop(columns=['SalePrice', 'is_train'])\n",
        "y = train_set['SalePrice']\n",
        "\n",
        "\n",
        "x_train, x_test, y_train, y_test = train_test_split(x, y, test_size=0.3, random_state=123)\n",
        "model = LinearRegression()\n",
        "model.fit(x_train, y_train)\n",
        "y_pred = model.predict(x_test)\n",
        "\n",
        "\n",
        "print(\"이상치 제거 후\")\n",
        "r_e(y_test, y_pred)\n",
        "\n",
        "\n",
        "#제거하기로 결정"
      ],
      "metadata": {
        "execution": {
          "iopub.status.busy": "2024-11-15T06:05:27.838356Z",
          "iopub.execute_input": "2024-11-15T06:05:27.838713Z",
          "iopub.status.idle": "2024-11-15T06:05:28.084929Z",
          "shell.execute_reply.started": "2024-11-15T06:05:27.838675Z",
          "shell.execute_reply": "2024-11-15T06:05:28.083864Z"
        },
        "trusted": true,
        "id": "rZvUTGCwfMGJ"
      },
      "execution_count": null,
      "outputs": []
    },
    {
      "cell_type": "code",
      "source": [
        "# 이상치 제거\n",
        "\n",
        "train_set = merged_df[merged_df['is_train']==1]\n",
        "test_set = merged_df[merged_df['is_train']==0]\n",
        "\n",
        "for col in outlier_col:\n",
        "    Q1 = train_set[col].quantile(0.25)\n",
        "    Q3 = train_set[col].quantile(0.75)\n",
        "    IQR = Q3 - Q1\n",
        "\n",
        "    outlier_condition = (train_set[col] < (Q1 - 1.5 * IQR)) | (train_set[col] > (Q3 + 1.5 * IQR))\n",
        "\n",
        "    train_set = train_set[~outlier_condition]\n",
        "\n",
        "merged_df = pd.concat([train_set, test_set], axis=0)\n",
        "merged_df.reset_index(drop=True, inplace=True)\n",
        "merged_df\n",
        "\n"
      ],
      "metadata": {
        "execution": {
          "iopub.status.busy": "2024-11-15T06:05:28.086935Z",
          "iopub.execute_input": "2024-11-15T06:05:28.087901Z",
          "iopub.status.idle": "2024-11-15T06:05:28.281853Z",
          "shell.execute_reply.started": "2024-11-15T06:05:28.087816Z",
          "shell.execute_reply": "2024-11-15T06:05:28.280538Z"
        },
        "trusted": true,
        "id": "p7NT27UVfMGJ"
      },
      "execution_count": null,
      "outputs": []
    },
    {
      "cell_type": "code",
      "source": [
        "#변수가 많을땐 타겟기준 corr 보기\n",
        "\n",
        "numeric_df = merged_df[merged_df['is_train'] == 1].select_dtypes(include=['float64', 'int64'])\n",
        "corr_mat = numeric_df.corr()\n",
        "\n",
        "target_corr = corr_mat['SalePrice'].apply(abs).sort_values(ascending=False)\n",
        "target_corr.head(21)\n",
        "\n",
        "\n",
        "# 품질, 생활공간(지상), 차고, 주택연도, 욕실수, 차고 건축연도, 차고면적, 리모델링연도, 지상층방수, 지하면적 정도까지 상관관계 있다 판별"
      ],
      "metadata": {
        "execution": {
          "iopub.status.busy": "2024-11-15T06:05:28.283643Z",
          "iopub.execute_input": "2024-11-15T06:05:28.284167Z",
          "iopub.status.idle": "2024-11-15T06:05:28.304277Z",
          "shell.execute_reply.started": "2024-11-15T06:05:28.28409Z",
          "shell.execute_reply": "2024-11-15T06:05:28.302994Z"
        },
        "trusted": true,
        "id": "NLdnb_lQfMGJ"
      },
      "execution_count": null,
      "outputs": []
    },
    {
      "cell_type": "code",
      "source": [
        "# 상관괸계 높은 데이터만 우선 확인 > 스케일링 고려\n",
        "\n",
        "import matplotlib.pyplot as plt\n",
        "\n",
        "cols_test = target_corr.head(10).index\n",
        "\n",
        "for col in cols_test:\n",
        "    plt.figure(figsize=(3, 2))\n",
        "    plt.hist(merged_df[col].dropna(), bins=30, edgecolor='k')\n",
        "    plt.xlabel(col)\n",
        "    plt.ylabel('fq')\n",
        "    plt.show()"
      ],
      "metadata": {
        "execution": {
          "iopub.status.busy": "2024-11-15T06:05:28.305805Z",
          "iopub.execute_input": "2024-11-15T06:05:28.306215Z",
          "iopub.status.idle": "2024-11-15T06:05:30.90177Z",
          "shell.execute_reply.started": "2024-11-15T06:05:28.306169Z",
          "shell.execute_reply": "2024-11-15T06:05:30.900366Z"
        },
        "trusted": true,
        "id": "1SK_VHmpfMGJ"
      },
      "execution_count": null,
      "outputs": []
    },
    {
      "cell_type": "code",
      "source": [
        "from sklearn.preprocessing import StandardScaler, MinMaxScaler\n",
        "\n",
        "merge_df2 = merged_df.copy()\n",
        "\n",
        "# 정규 분포를 따름\n",
        "standard = ['OverallQual', 'GrLivArea', 'FullBath', 'GarageCars', 'TotRmsAbvGrd']\n",
        "s_scaler = StandardScaler()\n",
        "merged_df2[standard] = s_scaler.fit_transform(merged_df2[standard])\n",
        "\n",
        "# 연속적인 시간의 흐름, 날짜차이 반영\n",
        "minmax = ['GarageArea', 'YearBuilt', 'GarageYrBlt', 'YearRemodAdd']\n",
        "m_scaler = MinMaxScaler()\n",
        "merged_df2[minmax] = m_scaler.fit_transform(merged_df2[minmax])\n",
        "\n",
        "\n"
      ],
      "metadata": {
        "execution": {
          "iopub.status.busy": "2024-11-15T06:05:30.903701Z",
          "iopub.execute_input": "2024-11-15T06:05:30.904196Z",
          "iopub.status.idle": "2024-11-15T06:05:30.928176Z",
          "shell.execute_reply.started": "2024-11-15T06:05:30.904124Z",
          "shell.execute_reply": "2024-11-15T06:05:30.926989Z"
        },
        "trusted": true,
        "id": "JX4-IrrEfMGJ"
      },
      "execution_count": null,
      "outputs": []
    },
    {
      "cell_type": "code",
      "source": [
        "# merged_df.head(1)\n",
        "# merged_df.shape\n",
        "merged_df[merged_df['is_train']==0].shape"
      ],
      "metadata": {
        "execution": {
          "iopub.status.busy": "2024-11-15T06:05:30.929752Z",
          "iopub.execute_input": "2024-11-15T06:05:30.930223Z",
          "iopub.status.idle": "2024-11-15T06:05:30.946967Z",
          "shell.execute_reply.started": "2024-11-15T06:05:30.930162Z",
          "shell.execute_reply": "2024-11-15T06:05:30.945653Z"
        },
        "trusted": true,
        "id": "EvY8C9Y1fMGJ"
      },
      "execution_count": null,
      "outputs": []
    },
    {
      "cell_type": "code",
      "source": [
        "merged_df[cols_test].dtypes"
      ],
      "metadata": {
        "execution": {
          "iopub.status.busy": "2024-11-15T06:05:30.948713Z",
          "iopub.execute_input": "2024-11-15T06:05:30.949219Z",
          "iopub.status.idle": "2024-11-15T06:05:30.961608Z",
          "shell.execute_reply.started": "2024-11-15T06:05:30.949163Z",
          "shell.execute_reply": "2024-11-15T06:05:30.960086Z"
        },
        "trusted": true,
        "id": "3X6SbD4YfMGJ"
      },
      "execution_count": null,
      "outputs": []
    },
    {
      "cell_type": "code",
      "source": [
        "# 문자형을 포함한 상관관계\n",
        "\n",
        "corr_mat2 = merged_df.corr()\n",
        "\n",
        "target_corr = corr_mat2['SalePrice'].apply(abs).sort_values(ascending=False)\n",
        "target_corr.head(21)\n",
        "\n",
        "high_corr_features = target_corr.head(11)\n",
        "\n",
        "high_corr_features[1:]\n",
        "\n",
        "# 수치형은 정규화 표준화 해서 상관관계가 낮아지고 , 문자형은 원핫인코딩을 진행해서 상위권에 진입하게 되었는데 이는 학습에 영향을 주지 않는가?"
      ],
      "metadata": {
        "execution": {
          "iopub.status.busy": "2024-11-15T06:05:30.963289Z",
          "iopub.execute_input": "2024-11-15T06:05:30.964307Z",
          "iopub.status.idle": "2024-11-15T06:05:31.198851Z",
          "shell.execute_reply.started": "2024-11-15T06:05:30.96422Z",
          "shell.execute_reply": "2024-11-15T06:05:31.197492Z"
        },
        "trusted": true,
        "id": "R0hWNGkpfMGJ"
      },
      "execution_count": null,
      "outputs": []
    },
    {
      "cell_type": "markdown",
      "source": [
        "# 3. 모델 선택 및 비교"
      ],
      "metadata": {
        "id": "cTveNfVbfMGK"
      }
    },
    {
      "cell_type": "code",
      "source": [
        "# 선형회귀  문자형 포함\n",
        "\n",
        "top_10_features = high_corr_features.index.drop('SalePrice')\n",
        "\n",
        "x = merged_df[merged_df['is_train'] == 1][top_10_features]\n",
        "y = merged_df[merged_df['is_train'] == 1]['SalePrice']\n",
        "\n",
        "x_train, x_test, y_train, y_test = train_test_split(x, y, test_size=0.3, random_state=123)\n",
        "\n",
        "lr = LinearRegression()\n",
        "lr.fit(x_train, y_train)\n",
        "\n",
        "y_pred = lr.predict(x_test)\n",
        "\n",
        "r_e(y_test, y_pred)\n"
      ],
      "metadata": {
        "execution": {
          "iopub.status.busy": "2024-11-15T06:05:31.203717Z",
          "iopub.execute_input": "2024-11-15T06:05:31.204221Z",
          "iopub.status.idle": "2024-11-15T06:05:31.2337Z",
          "shell.execute_reply.started": "2024-11-15T06:05:31.204163Z",
          "shell.execute_reply": "2024-11-15T06:05:31.232296Z"
        },
        "trusted": true,
        "id": "Agglafy2fMGK"
      },
      "execution_count": null,
      "outputs": []
    },
    {
      "cell_type": "code",
      "source": [
        "# 릿지 문자형 포함\n",
        "\n",
        "from sklearn.linear_model import Ridge\n",
        "\n",
        "rg = Ridge(alpha=1.0)\n",
        "rg.fit(x_train, y_train)\n",
        "\n",
        "y_pred = rg.predict(x_test)\n",
        "\n",
        "r_e(y_test, y_pred)"
      ],
      "metadata": {
        "execution": {
          "iopub.status.busy": "2024-11-15T06:05:31.235348Z",
          "iopub.execute_input": "2024-11-15T06:05:31.235826Z",
          "iopub.status.idle": "2024-11-15T06:05:31.255456Z",
          "shell.execute_reply.started": "2024-11-15T06:05:31.235772Z",
          "shell.execute_reply": "2024-11-15T06:05:31.253836Z"
        },
        "trusted": true,
        "id": "A6RSYH3GfMGK"
      },
      "execution_count": null,
      "outputs": []
    },
    {
      "cell_type": "code",
      "source": [
        "# 라쏘 문자형 포함\n",
        "from sklearn.linear_model import Lasso\n",
        "\n",
        "ls = Lasso(alpha=0.01)\n",
        "ls.fit(x_train, y_train)\n",
        "\n",
        "y_pred = ls.predict(x_test)\n",
        "\n",
        "r_e(y_test, y_pred)"
      ],
      "metadata": {
        "execution": {
          "iopub.status.busy": "2024-11-15T06:05:31.257276Z",
          "iopub.execute_input": "2024-11-15T06:05:31.257826Z",
          "iopub.status.idle": "2024-11-15T06:05:31.281039Z",
          "shell.execute_reply.started": "2024-11-15T06:05:31.257739Z",
          "shell.execute_reply": "2024-11-15T06:05:31.279681Z"
        },
        "trusted": true,
        "id": "JLMJCwpefMGK"
      },
      "execution_count": null,
      "outputs": []
    },
    {
      "cell_type": "code",
      "source": [
        "# 선형회귀 수치형만\n",
        "\n",
        "top_10_features2 = target_corr.index.drop('SalePrice')\n",
        "\n",
        "x2 = merged_df[merged_df['is_train'] == 1][top_10_features2]\n",
        "y2 = merged_df[merged_df['is_train'] == 1]['SalePrice']\n",
        "\n",
        "x_train, x_test, y_train, y_test = train_test_split(x2, y2, test_size=0.3, random_state=123)\n",
        "\n",
        "lr = LinearRegression()\n",
        "lr.fit(x_train, y_train)\n",
        "\n",
        "y_pred = lr.predict(x_test)\n",
        "\n",
        "r_e(y_test, y_pred)\n"
      ],
      "metadata": {
        "execution": {
          "iopub.status.busy": "2024-11-15T06:05:31.28237Z",
          "iopub.execute_input": "2024-11-15T06:05:31.282835Z",
          "iopub.status.idle": "2024-11-15T06:05:31.430575Z",
          "shell.execute_reply.started": "2024-11-15T06:05:31.282785Z",
          "shell.execute_reply": "2024-11-15T06:05:31.429247Z"
        },
        "trusted": true,
        "id": "o0p0xY-WfMGK"
      },
      "execution_count": null,
      "outputs": []
    },
    {
      "cell_type": "code",
      "source": [
        "# 릿지\n",
        "\n",
        "from sklearn.linear_model import Ridge\n",
        "\n",
        "rg = Ridge(alpha=1.0)\n",
        "rg.fit(x_train, y_train)\n",
        "\n",
        "y_pred = rg.predict(x_test)\n",
        "\n",
        "r_e(y_test, y_pred)"
      ],
      "metadata": {
        "execution": {
          "iopub.status.busy": "2024-11-15T06:05:31.438653Z",
          "iopub.execute_input": "2024-11-15T06:05:31.442484Z",
          "iopub.status.idle": "2024-11-15T06:05:31.786301Z",
          "shell.execute_reply.started": "2024-11-15T06:05:31.442384Z",
          "shell.execute_reply": "2024-11-15T06:05:31.771256Z"
        },
        "trusted": true,
        "id": "HXnbE8bWfMGN"
      },
      "execution_count": null,
      "outputs": []
    },
    {
      "cell_type": "code",
      "source": [
        "# 라쏘\n",
        "from sklearn.linear_model import Lasso\n",
        "\n",
        "ls = Lasso(alpha=0.01)\n",
        "ls.fit(x_train, y_train)\n",
        "\n",
        "y_pred = ls.predict(x_test)\n",
        "\n",
        "r_e(y_test, y_pred)"
      ],
      "metadata": {
        "execution": {
          "iopub.status.busy": "2024-11-15T06:05:31.795484Z",
          "iopub.execute_input": "2024-11-15T06:05:31.812672Z",
          "iopub.status.idle": "2024-11-15T06:05:31.945948Z",
          "shell.execute_reply.started": "2024-11-15T06:05:31.812563Z",
          "shell.execute_reply": "2024-11-15T06:05:31.944883Z"
        },
        "trusted": true,
        "id": "uUYwZWoUfMGN"
      },
      "execution_count": null,
      "outputs": []
    },
    {
      "cell_type": "code",
      "source": [
        "# 랜덤 포레스트\n",
        "from sklearn.ensemble import RandomForestRegressor\n",
        "\n",
        "rf = RandomForestRegressor(n_estimators=100, random_state=123)\n",
        "rf.fit(x_train, y_train)\n",
        "\n",
        "y_pred = rf.predict(x_test)\n",
        "\n",
        "r_e(y_test, y_pred)"
      ],
      "metadata": {
        "execution": {
          "iopub.status.busy": "2024-11-15T06:05:31.947442Z",
          "iopub.execute_input": "2024-11-15T06:05:31.948097Z",
          "iopub.status.idle": "2024-11-15T06:05:33.114534Z",
          "shell.execute_reply.started": "2024-11-15T06:05:31.948042Z",
          "shell.execute_reply": "2024-11-15T06:05:33.113314Z"
        },
        "trusted": true,
        "id": "6Y5QHqsHfMGN"
      },
      "execution_count": null,
      "outputs": []
    },
    {
      "cell_type": "code",
      "source": [
        "# XGBoost\n",
        "from xgboost import XGBRegressor\n",
        "\n",
        "xgb = XGBRegressor(n_estimators=100, learning_rate=0.05, max_depth=3, random_state=123)\n",
        "xgb.fit(x_train, y_train)\n",
        "\n",
        "y_pred = xgb.predict(x_test)\n",
        "\n",
        "r_e(y_test, y_pred)"
      ],
      "metadata": {
        "execution": {
          "iopub.status.busy": "2024-11-15T06:05:33.11965Z",
          "iopub.execute_input": "2024-11-15T06:05:33.120469Z",
          "iopub.status.idle": "2024-11-15T06:05:33.522414Z",
          "shell.execute_reply.started": "2024-11-15T06:05:33.12041Z",
          "shell.execute_reply": "2024-11-15T06:05:33.521223Z"
        },
        "trusted": true,
        "id": "G55C2G8KfMGN"
      },
      "execution_count": null,
      "outputs": []
    },
    {
      "cell_type": "code",
      "source": [
        "#스태킹\n",
        "from sklearn.ensemble import StackingRegressor\n",
        "import lightgbm as lgb\n",
        "\n",
        "base_learners = [\n",
        "    ('rf', RandomForestRegressor(n_estimators=100, random_state=123)),\n",
        "    ('xgb', XGBRegressor(n_estimators=100, learning_rate=0.05, max_depth=3, random_state=123)),\n",
        "    ('lgb', lgb.LGBMRegressor(n_estimators=100, learning_rate=0.05, max_depth=3, random_state=123))\n",
        "]\n",
        "\n",
        "meta = Ridge(alpha=1.0)\n",
        "\n",
        "stack= StackingRegressor(estimators=base_learners, final_estimator=meta)\n",
        "\n",
        "stack.fit(x_train, y_train)\n",
        "\n",
        "y_pred = stack.predict(x_test)\n",
        "\n",
        "r_e(y_test, y_pred)"
      ],
      "metadata": {
        "execution": {
          "iopub.status.busy": "2024-11-15T06:05:33.524344Z",
          "iopub.execute_input": "2024-11-15T06:05:33.524864Z",
          "iopub.status.idle": "2024-11-15T06:05:39.848933Z",
          "shell.execute_reply.started": "2024-11-15T06:05:33.524789Z",
          "shell.execute_reply": "2024-11-15T06:05:39.847779Z"
        },
        "trusted": true,
        "id": "2ZsaP-FjfMGN"
      },
      "execution_count": null,
      "outputs": []
    },
    {
      "cell_type": "markdown",
      "source": [
        "## 3-1 요약\n",
        "> - 모두 포함(범주형(문자형)과 수치형) : 모두 성과가 좋지 않음 상관관계가 영향이 확실히 나타나는걸 확인하여 표준화 정규화등 스케일링을 진행 후 상관관계가 퍼질 수있지만 낮아진다면 고려대상이다\n",
        "> - 수치형       :  모두 성과가 좋게 나타남 Rinear_regression은 전체 재실행 하니 갑자기 R2스코어가 극히 나쁘게 나옴\n",
        "\n",
        "- 이를 반영한 수정작업 진행"
      ],
      "metadata": {
        "id": "Gps0NJZ7fMGN"
      }
    },
    {
      "cell_type": "markdown",
      "source": [
        "# 4. 성능 평가\n",
        "\n",
        "> - 새로운 피쳐 생성 적용(상관관계 높은 데이터 곱해서 적용)\n",
        "> - sales 값 로그화\n",
        "> - 하이퍼파라미터 튜닝"
      ],
      "metadata": {
        "id": "-mhYxk6WfMGN"
      }
    },
    {
      "cell_type": "code",
      "source": [
        "from sklearn.model_selection import GridSearchCV\n",
        "\n",
        "ridge = Ridge()\n",
        "\n",
        "param_grid = {\n",
        "    'alpha': [0.1, 0.5, 1.0, 5.0, 10.0, 50.0, 100.0]\n",
        "}\n",
        "\n",
        "gs= GridSearchCV(estimator=ridge, param_grid=param_grid, cv=5, scoring='neg_mean_squared_error', n_jobs=-1)\n",
        "\n",
        "gs.fit(x_train, y_train)\n",
        "\n",
        "print(f\"Best alpha: {gs.best_params_['alpha']}\")\n",
        "\n",
        "y_pred = gs.best_estimator_.predict(x_test)\n",
        "\n",
        "r_e(y_test, y_pred)\n"
      ],
      "metadata": {
        "execution": {
          "iopub.status.busy": "2024-11-15T06:05:39.850577Z",
          "iopub.execute_input": "2024-11-15T06:05:39.851057Z",
          "iopub.status.idle": "2024-11-15T06:05:42.101107Z",
          "shell.execute_reply.started": "2024-11-15T06:05:39.851002Z",
          "shell.execute_reply": "2024-11-15T06:05:42.099224Z"
        },
        "trusted": true,
        "id": "t-RLYvJzfMGN"
      },
      "execution_count": null,
      "outputs": []
    },
    {
      "cell_type": "code",
      "source": [
        "# warnings.filterwarnings(\"ignore\", category=UserWarning, message=\".*DataFrame is highly fragmented.*\")\n",
        "\n",
        "# new_features = [f\"{top_10_features2[i]}_{top_10_features2[j]}_prod\"\n",
        "#                 for i in range(len(top_10_features2)-1)\n",
        "#                 for j in range(i+1, len(top_10_features2))]\n",
        "\n",
        "# new_feature_data = {}\n",
        "\n",
        "# for i in range(len(top_10_features2)-1):\n",
        "#     for j in range(i+1, len(top_10_features2)):\n",
        "#         new_feature_name = f\"{top_10_features2[i]}_{top_10_features2[j]}_prod\"\n",
        "#         new_feature_data[new_feature_name] = merged_df[top_10_features2[i]] * merged_df[top_10_features2[j]]\n",
        "\n",
        "# new_feature_df = pd.DataFrame(new_feature_data)\n",
        "\n",
        "# merged_df = pd.concat([merged_df, new_feature_df], axis=1)\n",
        "\n",
        "# x = merged_df[merged_df['is_train'] == 1][new_features]\n",
        "# y = merged_df[merged_df['is_train'] == 1]['SalePrice']\n",
        "\n",
        "# x_train, x_test, y_train, y_test = train_test_split(x, y, test_size=0.3, random_state=123)\n",
        "\n",
        "# ridge = Ridge(alpha=10.0)\n",
        "# ridge.fit(x_train, y_train)\n",
        "\n",
        "# y_pred = ridge.predict(x_test)\n",
        "\n",
        "# r_e(y_test, y_pred)\n",
        "\n",
        "#최악"
      ],
      "metadata": {
        "execution": {
          "iopub.status.busy": "2024-11-15T06:05:42.10682Z",
          "iopub.execute_input": "2024-11-15T06:05:42.110952Z",
          "iopub.status.idle": "2024-11-15T06:05:42.120806Z",
          "shell.execute_reply.started": "2024-11-15T06:05:42.11085Z",
          "shell.execute_reply": "2024-11-15T06:05:42.119705Z"
        },
        "trusted": true,
        "id": "18bLWU36fMGO"
      },
      "execution_count": null,
      "outputs": []
    },
    {
      "cell_type": "code",
      "source": [
        "x2 = merged_df[merged_df['is_train'] == 1][top_10_features2]\n",
        "y2 = merged_df[merged_df['is_train'] == 1]['SalePrice']\n",
        "\n",
        "x_train, x_test, y_train, y_test = train_test_split(x2, y2, test_size=0.3, random_state=123)\n",
        "\n",
        "ridge = Ridge(alpha=10.0)\n",
        "\n",
        "ridge.fit(x_train, y_train)\n",
        "\n",
        "y_pred = ridge.predict(x_test)\n",
        "\n",
        "r_e(y_test, y_pred)\n",
        "\n",
        "test_set = merged_df[merged_df['is_train'] == 0]\n",
        "test_set_cleaned = test_set[x_train.columns]\n",
        "\n",
        "y_test_pred = ridge.predict(test_set_cleaned)\n",
        "\n",
        "submission = pd.DataFrame({\n",
        "    'Id': test_set['Id'],\n",
        "    'SalePrice': y_test_pred\n",
        "})\n",
        "submission['Id'] = submission['Id'].astype('Int32')\n",
        "\n",
        "\n",
        "submission.to_csv('submission.csv', index=False)\n",
        "print(\"Kaggle 생성 완료\")"
      ],
      "metadata": {
        "execution": {
          "iopub.status.busy": "2024-11-15T06:11:13.228937Z",
          "iopub.execute_input": "2024-11-15T06:11:13.229479Z",
          "iopub.status.idle": "2024-11-15T06:11:13.452906Z",
          "shell.execute_reply.started": "2024-11-15T06:11:13.229416Z",
          "shell.execute_reply": "2024-11-15T06:11:13.451698Z"
        },
        "trusted": true,
        "id": "bY1m6ApUfMGO"
      },
      "execution_count": null,
      "outputs": []
    },
    {
      "cell_type": "code",
      "source": [
        "test_set"
      ],
      "metadata": {
        "execution": {
          "iopub.status.busy": "2024-11-15T06:05:42.394032Z",
          "iopub.execute_input": "2024-11-15T06:05:42.396443Z",
          "iopub.status.idle": "2024-11-15T06:05:42.496797Z",
          "shell.execute_reply.started": "2024-11-15T06:05:42.396381Z",
          "shell.execute_reply": "2024-11-15T06:05:42.495224Z"
        },
        "trusted": true,
        "id": "WHwh2I_EfMGO"
      },
      "execution_count": null,
      "outputs": []
    },
    {
      "cell_type": "code",
      "source": [
        "x_train"
      ],
      "metadata": {
        "execution": {
          "iopub.status.busy": "2024-11-15T06:05:42.504295Z",
          "iopub.execute_input": "2024-11-15T06:05:42.505076Z",
          "iopub.status.idle": "2024-11-15T06:05:42.541436Z",
          "shell.execute_reply.started": "2024-11-15T06:05:42.505027Z",
          "shell.execute_reply": "2024-11-15T06:05:42.540218Z"
        },
        "trusted": true,
        "id": "JVw9uElVfMGO"
      },
      "execution_count": null,
      "outputs": []
    },
    {
      "cell_type": "code",
      "source": [
        "train_columns = x_train.columns\n",
        "test_columns = test_set.columns\n",
        "\n",
        "missing_in_test = train_columns.difference(test_columns)\n",
        "missing_in_train = test_columns.difference(train_columns)\n",
        "\n",
        "print(\"x_train에만 있는 컬럼:\", missing_in_test)\n",
        "print(\"test_set에만 있는 컬럼:\", missing_in_train)"
      ],
      "metadata": {
        "execution": {
          "iopub.status.busy": "2024-11-15T06:05:42.542882Z",
          "iopub.execute_input": "2024-11-15T06:05:42.543251Z",
          "iopub.status.idle": "2024-11-15T06:05:42.553206Z",
          "shell.execute_reply.started": "2024-11-15T06:05:42.543212Z",
          "shell.execute_reply": "2024-11-15T06:05:42.55187Z"
        },
        "trusted": true,
        "id": "TRV9CqQLfMGO"
      },
      "execution_count": null,
      "outputs": []
    },
    {
      "cell_type": "code",
      "source": [
        "submission"
      ],
      "metadata": {
        "execution": {
          "iopub.status.busy": "2024-11-15T06:11:19.350288Z",
          "iopub.execute_input": "2024-11-15T06:11:19.350762Z",
          "iopub.status.idle": "2024-11-15T06:11:19.365694Z",
          "shell.execute_reply.started": "2024-11-15T06:11:19.350714Z",
          "shell.execute_reply": "2024-11-15T06:11:19.364382Z"
        },
        "trusted": true,
        "id": "Q0Zffi6sfMGO"
      },
      "execution_count": null,
      "outputs": []
    },
    {
      "cell_type": "code",
      "source": [
        "submission.dtypes"
      ],
      "metadata": {
        "execution": {
          "iopub.status.busy": "2024-11-15T06:11:44.929708Z",
          "iopub.execute_input": "2024-11-15T06:11:44.930119Z",
          "iopub.status.idle": "2024-11-15T06:11:44.939374Z",
          "shell.execute_reply.started": "2024-11-15T06:11:44.93008Z",
          "shell.execute_reply": "2024-11-15T06:11:44.938106Z"
        },
        "trusted": true,
        "id": "RuVKvOHpfMGO"
      },
      "execution_count": null,
      "outputs": []
    },
    {
      "cell_type": "code",
      "source": [
        "import os\n",
        "print(os.listdir('/kaggle/working/'))\n"
      ],
      "metadata": {
        "execution": {
          "iopub.status.busy": "2024-11-15T06:05:42.575338Z",
          "iopub.execute_input": "2024-11-15T06:05:42.575819Z",
          "iopub.status.idle": "2024-11-15T06:05:42.587758Z",
          "shell.execute_reply.started": "2024-11-15T06:05:42.575772Z",
          "shell.execute_reply": "2024-11-15T06:05:42.586589Z"
        },
        "trusted": true,
        "id": "slsM7A_ofMGO"
      },
      "execution_count": null,
      "outputs": []
    }
  ]
}